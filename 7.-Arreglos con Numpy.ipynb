{
 "cells": [
  {
   "cell_type": "markdown",
   "id": "97440181-c103-476a-92f2-f0f1ecec1172",
   "metadata": {},
   "source": [
    "# 7.- Arreglos con NUMPY"
   ]
  },
  {
   "cell_type": "markdown",
   "id": "fcba5f60-4ce2-4b2b-8ab3-896104c16476",
   "metadata": {},
   "source": [
    "En este capítulo aprenderás a utilizar algunas cualidades básicas de NumPy (Numerical Python).\n",
    "NumPy es una de las librerías más populares de Python, ya que puede procesar listas de múltiples\n",
    "dimensiones"
   ]
  },
  {
   "cell_type": "markdown",
   "id": "bff5b478-ff7c-49cd-bc26-438dafb70e07",
   "metadata": {},
   "source": [
    "## 7.2.- Arreglo de Datos"
   ]
  },
  {
   "cell_type": "markdown",
   "id": "c7835682-242d-40e4-9908-daf68081945b",
   "metadata": {},
   "source": [
    "Como en la sección anterior, invocaremos a la librería NumPy como np"
   ]
  },
  {
   "cell_type": "code",
   "execution_count": 14,
   "id": "2cde2abf-8d84-467b-b59d-d8866870e94f",
   "metadata": {},
   "outputs": [],
   "source": [
    "import numpy as np"
   ]
  },
  {
   "cell_type": "markdown",
   "id": "642ae354-9ae2-40e0-acdc-45566af97cb4",
   "metadata": {},
   "source": [
    "Armemos un arreglo de todos los factoriales del 1 al 6"
   ]
  },
  {
   "cell_type": "code",
   "execution_count": 2,
   "id": "b4d6af33-6688-4dd8-9970-0a2e06491112",
   "metadata": {},
   "outputs": [],
   "source": [
    "factoriales = np.array([1,2,6,24,120,720])"
   ]
  },
  {
   "cell_type": "markdown",
   "id": "3e0a5ef0-5ffe-4591-968e-ca4346c7ea9d",
   "metadata": {},
   "source": [
    "Verifica el tipo de objeto que generamos"
   ]
  },
  {
   "cell_type": "code",
   "execution_count": 27,
   "id": "9f0bcf80-e875-43f6-8768-a710cc9348c7",
   "metadata": {},
   "outputs": [
    {
     "data": {
      "text/plain": [
       "array([  1,   2,   6,  24, 120, 720])"
      ]
     },
     "execution_count": 27,
     "metadata": {},
     "output_type": "execute_result"
    }
   ],
   "source": [
    "\n",
    "type(factoriales)\n",
    "factoriales\n",
    "np.array([ 1, 2, 6, 24, 120, 720])"
   ]
  },
  {
   "cell_type": "markdown",
   "id": "735ed935-98ff-4e17-9088-0c9dec7cb593",
   "metadata": {},
   "source": [
    "La función array copia automáticamente las dimensiones del argumento. Por ejemplo, el siguiente arreglo (array) está formado por tres filas y dos columnas."
   ]
  },
  {
   "cell_type": "code",
   "execution_count": 26,
   "id": "be75e011-3b03-44a4-9e6c-cad9c045bca4",
   "metadata": {},
   "outputs": [
    {
     "data": {
      "text/plain": [
       "array([[ 3,  4],\n",
       "       [ 6,  7],\n",
       "       [10, 11]])"
      ]
     },
     "execution_count": 26,
     "metadata": {},
     "output_type": "execute_result"
    }
   ],
   "source": [
    "np.array([[3,4],[6,7],[10,11]])\n",
    "np.array([[ 3, 4],\n",
    "       [ 6, 7],\n",
    "       [10, 11]])"
   ]
  },
  {
   "cell_type": "markdown",
   "id": "22058497-7040-44fe-97a8-247f62a52d3f",
   "metadata": {},
   "source": [
    "#### Por tu cuenta\n",
    "\n",
    "Arma un arreglo de una dimensión desde una compresnidón de lista que produce todos los números nones del 1 al 30"
   ]
  },
  {
   "cell_type": "code",
   "execution_count": 25,
   "id": "361d9943-b067-4a77-8ffa-99ac2297267f",
   "metadata": {},
   "outputs": [
    {
     "data": {
      "text/plain": [
       "array([[3.        , 3.16227766, 3.33      ],\n",
       "       [3.33333333, 3.4       , 3.03      ]])"
      ]
     },
     "execution_count": 25,
     "metadata": {},
     "output_type": "execute_result"
    }
   ],
   "source": [
    "import numpy as np\n",
    "enteros = np.array([[9,10,11,12],[8,7,6,5]])\n",
    "enteros\n",
    "np.array([[ 9, 10, 11, 12],\n",
    "[ 8, 7, 6, 5]])\n",
    "flotantes=np.array([[9**(1/2),10**(1/2),3.33,],[10/3,3.4,3.03]])\n",
    "flotantes\n",
    "np.array([[3. , 3.16227766, 3.33 ],\n",
    "[3.33333333, 3.4 , 3.03 ]])"
   ]
  },
  {
   "cell_type": "markdown",
   "id": "91b4e247-d7c9-473a-a77a-45890ae5877d",
   "metadata": {},
   "source": [
    "### 7.2.2 - Atributos de Arreglos"
   ]
  },
  {
   "cell_type": "markdown",
   "id": "585c03f9-c00a-4dbf-bf10-0073ef735d74",
   "metadata": {},
   "source": [
    "En esta sección usaremos los siguientes 2 arreglos\n",
    "\n",
    "enteros = np.array([[9,10,11,12],[8,7,6,5]])\n",
    "\n",
    "flotantes=np.array([[9**(1/2),10**(1/2),3.33,],[10/3,3.4,3.03]])"
   ]
  },
  {
   "cell_type": "code",
   "execution_count": null,
   "id": "4c3638cb-f453-45fd-a7f2-d2498c6a45df",
   "metadata": {},
   "outputs": [],
   "source": [
    "import numpy as np\n",
    "enteros = np.array([[9,10,11,12],[8,7,6,5]])\n",
    "enteros\n",
    "array([[ 9, 10, 11, 12],\n",
    "[ 8, 7, 6, 5]])\n",
    "flotantes=np.array([[9**(1/2),10**(1/2),3.33,],[10/3,3.4,3.03]])\n",
    "flotantes\n",
    "array([[3. , 3.16227766, 3.33 ],\n",
    "[3.33333333, 3.4 , 3.03 ]])"
   ]
  },
  {
   "cell_type": "code",
   "execution_count": null,
   "id": "f251b26b-e5b1-4899-b2f7-a123d0aa0343",
   "metadata": {},
   "outputs": [],
   "source": []
  },
  {
   "cell_type": "markdown",
   "id": "25723a8f-407c-4e96-b3fc-1a3599a235d2",
   "metadata": {},
   "source": [
    "Checa el tipo de elemento con dtype"
   ]
  },
  {
   "cell_type": "code",
   "execution_count": 28,
   "id": "16a77235-c2b1-481d-83d0-868b5ae497c6",
   "metadata": {},
   "outputs": [
    {
     "data": {
      "text/plain": [
       "dtype('float64')"
      ]
     },
     "execution_count": 28,
     "metadata": {},
     "output_type": "execute_result"
    }
   ],
   "source": [
    "enteros.dtype\n",
    "np.dtype('int32') # en algunas plataformas puede ser int64\n",
    "flotantes.dtype\n",
    "np.dtype('float64')"
   ]
  },
  {
   "cell_type": "code",
   "execution_count": null,
   "id": "178aec35-04c4-4ee6-aede-9e7e8040ec72",
   "metadata": {},
   "outputs": [],
   "source": []
  },
  {
   "cell_type": "markdown",
   "id": "2877de72-2877-4d1b-a890-9eb4bb383b41",
   "metadata": {},
   "source": [
    "Revisa que puedes ver dimensione con ndim y forma con shape del arreglo"
   ]
  },
  {
   "cell_type": "code",
   "execution_count": 19,
   "id": "fc0831b6-2514-4266-a070-fabf58ba64da",
   "metadata": {},
   "outputs": [
    {
     "data": {
      "text/plain": [
       "2"
      ]
     },
     "execution_count": 19,
     "metadata": {},
     "output_type": "execute_result"
    }
   ],
   "source": [
    "enteros.ndim"
   ]
  },
  {
   "cell_type": "code",
   "execution_count": 22,
   "id": "9bf00a06-b6ca-4e4b-acfd-c6aa2e1f7056",
   "metadata": {},
   "outputs": [
    {
     "data": {
      "text/plain": [
       "(2, 4)"
      ]
     },
     "execution_count": 22,
     "metadata": {},
     "output_type": "execute_result"
    }
   ],
   "source": [
    "\n",
    "enteros.shape\n"
   ]
  },
  {
   "cell_type": "markdown",
   "id": "304c7d0b-d297-4a95-acc1-4d65e136a123",
   "metadata": {},
   "source": [
    "Size y itemsize te permite conocer el numero de elemntos y de bytes para almacenar"
   ]
  },
  {
   "cell_type": "code",
   "execution_count": 30,
   "id": "31222166-9d8a-4f67-b823-79ae42350f17",
   "metadata": {},
   "outputs": [
    {
     "data": {
      "text/plain": [
       "8"
      ]
     },
     "execution_count": 30,
     "metadata": {},
     "output_type": "execute_result"
    }
   ],
   "source": [
    "enteros.size\n",
    "\n",
    "enteros.itemsize\n",
    "\n"
   ]
  },
  {
   "cell_type": "markdown",
   "id": "77944a1b-3dfc-418f-895b-9f60ed6d2639",
   "metadata": {},
   "source": [
    "Se puede iterar facilmente a través de un arreglo"
   ]
  },
  {
   "cell_type": "code",
   "execution_count": 31,
   "id": "90e1bada-72bd-4fb3-a539-0f40aa3734a3",
   "metadata": {},
   "outputs": [
    {
     "data": {
      "text/plain": [
       "8"
      ]
     },
     "execution_count": 31,
     "metadata": {},
     "output_type": "execute_result"
    }
   ],
   "source": [
    "flotantes.size\n",
    "\n",
    "flotantes.itemsize\n"
   ]
  },
  {
   "cell_type": "markdown",
   "id": "142d034c-3e20-4b20-ba51-6000becb42f5",
   "metadata": {},
   "source": [
    "#### Por tu cuenta\n",
    "\n",
    "Para el arreglo que armaste en el \"Por tu cuenta\" previo, checa el numero de dmiensiones y forma del arreglo"
   ]
  },
  {
   "cell_type": "code",
   "execution_count": 32,
   "id": "992b5cc8-7814-41d3-8d20-138b12f9b93e",
   "metadata": {},
   "outputs": [
    {
     "name": "stdout",
     "output_type": "stream",
     "text": [
      "3.0 3.1622776601683795 3.33 3.3333333333333335 3.4 3.03 \n"
     ]
    }
   ],
   "source": [
    "for fila in flotantes:\n",
    "    for columna in fila:\n",
    "            print(columna, end=' ')\n",
    "print()"
   ]
  },
  {
   "cell_type": "code",
   "execution_count": null,
   "id": "b381994a-8b83-4cd4-b0b6-7ff1d3910730",
   "metadata": {},
   "outputs": [],
   "source": []
  },
  {
   "cell_type": "code",
   "execution_count": null,
   "id": "e956c03d-16ae-49a9-916d-ec2ca6d8a2c8",
   "metadata": {},
   "outputs": [],
   "source": []
  },
  {
   "cell_type": "markdown",
   "id": "6c576a2d-67d9-4a39-a251-bf1cb325bc61",
   "metadata": {},
   "source": [
    "### 7.2.3 - Creando Arreglos desde Rangos"
   ]
  },
  {
   "cell_type": "markdown",
   "id": "8ecb1f66-72c9-4d1d-8332-0670ff49049b",
   "metadata": {},
   "source": [
    "La función arange (una sola R!!!!) nos permite crear rangos de enteros. Crea:\n",
    "\n",
    "- Un arreglo del 0 al 7\n",
    "- Un arreglo del 3 al 7\n",
    "- Un arreglo del 12 al 2 en pasos de 3 en 3 (si, en orden inverso)"
   ]
  },
  {
   "cell_type": "code",
   "execution_count": 33,
   "id": "398b8572-3b35-4a9b-b3d2-df69be4b8c62",
   "metadata": {},
   "outputs": [
    {
     "name": "stdout",
     "output_type": "stream",
     "text": [
      "[0 1 2 3 4 5 6 7]\n"
     ]
    }
   ],
   "source": [
    "arr1 = np.arange(0, 8)\n",
    "print(arr1) "
   ]
  },
  {
   "cell_type": "code",
   "execution_count": 34,
   "id": "5dddb086-837f-46fb-8129-78913c9045fc",
   "metadata": {},
   "outputs": [
    {
     "name": "stdout",
     "output_type": "stream",
     "text": [
      "[3 4 5 6 7]\n"
     ]
    }
   ],
   "source": [
    "arr2 = np.arange(3, 8)\n",
    "print(arr2)"
   ]
  },
  {
   "cell_type": "code",
   "execution_count": 35,
   "id": "70d50bbe-7686-4514-be0a-089b18f83551",
   "metadata": {},
   "outputs": [
    {
     "name": "stdout",
     "output_type": "stream",
     "text": [
      "[12  9  6  3]\n"
     ]
    }
   ],
   "source": [
    "arr3 = np.arange(12, 1, -3)\n",
    "print(arr3)"
   ]
  },
  {
   "cell_type": "markdown",
   "id": "8c3940c8-1c11-4224-bc25-7739b60e3256",
   "metadata": {},
   "source": [
    "Tambien se pueden usar tamaños de paso no enteros. Crea un arreglo con linspace de 0 al 1 que vaya de .25 en .25"
   ]
  },
  {
   "cell_type": "code",
   "execution_count": 36,
   "id": "b532a32c-f674-48f8-bb15-9ebb58120172",
   "metadata": {},
   "outputs": [
    {
     "name": "stdout",
     "output_type": "stream",
     "text": [
      "[0.   0.25 0.5  0.75 1.  ]\n"
     ]
    }
   ],
   "source": [
    "arr = np.linspace(0, 1, num=5)  \n",
    "print(arr)"
   ]
  },
  {
   "cell_type": "markdown",
   "id": "ca52697a-dd29-4a72-ab8c-2e1d2b7df73a",
   "metadata": {},
   "source": [
    "Y se puede cambiar la forma del arreglo con reshape. Crea un arreglo con arange que vaya del 21 al 1 en orden inverso, y luego dale forma de matriz de 4x5"
   ]
  },
  {
   "cell_type": "code",
   "execution_count": 41,
   "id": "82dd73a2-4e8e-4dd8-a3c3-9132dc655b22",
   "metadata": {},
   "outputs": [
    {
     "name": "stdout",
     "output_type": "stream",
     "text": [
      "Arreglo original:\n",
      "[21 20 19 18 17 16 15 14 13 12 11 10  9  8  7  6  5  4  3  2  1]\n"
     ]
    },
    {
     "ename": "ValueError",
     "evalue": "cannot reshape array of size 21 into shape (4,5)",
     "output_type": "error",
     "traceback": [
      "\u001b[31m---------------------------------------------------------------------------\u001b[39m",
      "\u001b[31mValueError\u001b[39m                                Traceback (most recent call last)",
      "\u001b[36mCell\u001b[39m\u001b[36m \u001b[39m\u001b[32mIn[41]\u001b[39m\u001b[32m, line 6\u001b[39m\n\u001b[32m      2\u001b[39m \u001b[38;5;28mprint\u001b[39m(\u001b[33m\"\u001b[39m\u001b[33mArreglo original:\u001b[39m\u001b[33m\"\u001b[39m)\n\u001b[32m      3\u001b[39m \u001b[38;5;28mprint\u001b[39m(arr)\n\u001b[32m----> \u001b[39m\u001b[32m6\u001b[39m matriz = \u001b[43marr\u001b[49m\u001b[43m.\u001b[49m\u001b[43mreshape\u001b[49m\u001b[43m(\u001b[49m\u001b[32;43m4\u001b[39;49m\u001b[43m,\u001b[49m\u001b[43m \u001b[49m\u001b[32;43m5\u001b[39;49m\u001b[43m)\u001b[49m\n\u001b[32m      7\u001b[39m \u001b[38;5;28mprint\u001b[39m(\u001b[33m\"\u001b[39m\u001b[38;5;130;01m\\n\u001b[39;00m\u001b[33mMatriz 4x5:\u001b[39m\u001b[33m\"\u001b[39m)\n\u001b[32m      8\u001b[39m \u001b[38;5;28mprint\u001b[39m(matriz)\n",
      "\u001b[31mValueError\u001b[39m: cannot reshape array of size 21 into shape (4,5)"
     ]
    }
   ],
   "source": [
    "\n",
    "arr = np.arange(21, 0, -1)\n",
    "print(\"Arreglo original:\")\n",
    "print(arr)\n",
    "\n",
    "\n",
    "matriz = arr.reshape(4, 5)\n",
    "print(\"\\nMatriz 4x5:\")\n",
    "print(matriz)\n"
   ]
  },
  {
   "cell_type": "markdown",
   "id": "1e3f03c1-f451-4dca-9320-1d5846b18995",
   "metadata": {},
   "source": [
    "Checate que si el arreglo tiene 1000 o más elementos, numpy no muestra la totalidad de los datos. Generaun arreglo de 0 a 9999 y dale forma de 5 x 2000"
   ]
  },
  {
   "cell_type": "code",
   "execution_count": 42,
   "id": "b6948944-d77f-440d-a781-30fb1cf26565",
   "metadata": {},
   "outputs": [
    {
     "name": "stdout",
     "output_type": "stream",
     "text": [
      "[[   0    1    2 ... 1997 1998 1999]\n",
      " [2000 2001 2002 ... 3997 3998 3999]\n",
      " [4000 4001 4002 ... 5997 5998 5999]\n",
      " [6000 6001 6002 ... 7997 7998 7999]\n",
      " [8000 8001 8002 ... 9997 9998 9999]]\n"
     ]
    }
   ],
   "source": [
    "import numpy as np\n",
    "\n",
    "arr = np.arange(10000)\n",
    "\n",
    "matriz = arr.reshape(5, 2000)\n",
    "\n",
    "print(matriz)\n"
   ]
  },
  {
   "cell_type": "markdown",
   "id": "965587b4-2bd7-4b09-99d4-e1f26fc2d99e",
   "metadata": {},
   "source": [
    "#### Por tu cuenta\n",
    "\n",
    "Usa la función arange para crear una rreglo de 20 enteros pares del 42 al 80, y luego rearmalo en una matriz de 4x5"
   ]
  },
  {
   "cell_type": "code",
   "execution_count": 43,
   "id": "8a01c49c-d067-4e8e-aade-42784ffc2340",
   "metadata": {},
   "outputs": [
    {
     "name": "stdout",
     "output_type": "stream",
     "text": [
      "[[42 44 46 48 50]\n",
      " [52 54 56 58 60]\n",
      " [62 64 66 68 70]\n",
      " [72 74 76 78 80]]\n"
     ]
    }
   ],
   "source": [
    "import numpy as np\n",
    "\n",
    "\n",
    "arr = np.arange(42, 82, 2)  \n",
    "\n",
    "matriz = arr.reshape(4, 5)\n",
    "\n",
    "print(matriz)\n"
   ]
  },
  {
   "cell_type": "markdown",
   "id": "85ffe47c-dc04-4458-befc-8a7785b2da5b",
   "metadata": {},
   "source": [
    "### 7.2.4 - ¿Que tan más rapido es un arreglo?"
   ]
  },
  {
   "cell_type": "markdown",
   "id": "3dbffa17-9288-473d-b503-c25bb402a7be",
   "metadata": {},
   "source": [
    "Usa la magia %timeit y la librería random para crear una comprensión de lista que simule un tiro de dao 6000000 de veces y medir su tiempo"
   ]
  },
  {
   "cell_type": "code",
   "execution_count": 47,
   "id": "bd3bd30e-876d-4935-8c75-214fe973d19f",
   "metadata": {},
   "outputs": [
    {
     "name": "stdout",
     "output_type": "stream",
     "text": [
      "Tiempo de ejecución: 5.4191 segundos\n"
     ]
    }
   ],
   "source": [
    "import random\n",
    "import time\n",
    "\n",
    "\n",
    "inicio = time.time()\n",
    "\n",
    "\n",
    "dados = [random.randint(1, 6) for _ in range(6_000_000)]\n",
    "\n",
    "\n",
    "fin = time.time()\n",
    "\n",
    "print(f\"Tiempo de ejecución: {fin - inicio:.4f} segundos\")\n",
    "\n",
    "\n",
    "\n"
   ]
  },
  {
   "cell_type": "markdown",
   "id": "9722dcf5-f8f6-4b28-8891-fadbd3877ab3",
   "metadata": {
    "tags": []
   },
   "source": [
    "Ahora usa %timeit para medir el tiempo de un tiro de dado 6000000 de veces pero hecho con arreglo"
   ]
  },
  {
   "cell_type": "code",
   "execution_count": 48,
   "id": "34fd2bed-c4cc-4cf7-96ef-9f0b505f957f",
   "metadata": {},
   "outputs": [
    {
     "name": "stdout",
     "output_type": "stream",
     "text": [
      "143 ms ± 7.46 ms per loop (mean ± std. dev. of 7 runs, 1 loop each)\n"
     ]
    }
   ],
   "source": [
    "import numpy as np\n",
    "\n",
    "%timeit np.random.randint(1, 7, size=6_000_000)\n"
   ]
  },
  {
   "cell_type": "markdown",
   "id": "eee97850-27e6-4a96-8429-9aed475b904a",
   "metadata": {},
   "source": [
    "#### Por tu cuenta\n",
    "\n",
    "Usa %timeit para ver que es mas rapido - una lista que sume todos los enteros del 0 al 9 999 999 o un arreglo que haga lo mismo con el metodo sum"
   ]
  },
  {
   "cell_type": "code",
   "execution_count": 49,
   "id": "a6e227ad-e538-42a0-839a-ce702f63fddb",
   "metadata": {},
   "outputs": [
    {
     "name": "stdout",
     "output_type": "stream",
     "text": [
      "862 ms ± 140 ms per loop (mean ± std. dev. of 7 runs, 1 loop each)\n",
      "47.2 ms ± 9.1 ms per loop (mean ± std. dev. of 7 runs, 10 loops each)\n"
     ]
    }
   ],
   "source": [
    "\n",
    "%timeit sum([i for i in range(10_000_000)])\n",
    "\n",
    "%timeit np.sum(np.arange(10_000_000))\n"
   ]
  },
  {
   "cell_type": "markdown",
   "id": "cafa5e49-63a5-4719-b986-b9c05504efae",
   "metadata": {},
   "source": [
    "## 7.3.- Operaciones con Arreglos"
   ]
  },
  {
   "cell_type": "markdown",
   "id": "4af27e94-54ba-4f6d-9d33-e95cbe99ada3",
   "metadata": {},
   "source": [
    "Arma un arreglo de todos los pares del 2 al 15.\n",
    "\n",
    "- Sumale 1 al arreglo\n",
    "- Multiplicalo por 3\n",
    "- Sacale raiz cuadrada"
   ]
  },
  {
   "cell_type": "code",
   "execution_count": 50,
   "id": "d9d83ede-2f50-4336-aae2-95c0343fad8e",
   "metadata": {},
   "outputs": [
    {
     "data": {
      "text/plain": [
       "array([ 2,  4,  6,  8, 10, 12, 14])"
      ]
     },
     "execution_count": 50,
     "metadata": {},
     "output_type": "execute_result"
    }
   ],
   "source": [
    "pares = np.arange(2,15,2)\n",
    "\n",
    "pares"
   ]
  },
  {
   "cell_type": "code",
   "execution_count": 51,
   "id": "6c1f412b-b92a-4c19-bb65-1296b497edef",
   "metadata": {},
   "outputs": [
    {
     "data": {
      "text/plain": [
       "array([ 3,  5,  7,  9, 11, 13, 15])"
      ]
     },
     "execution_count": 51,
     "metadata": {},
     "output_type": "execute_result"
    }
   ],
   "source": [
    "pares+1"
   ]
  },
  {
   "cell_type": "code",
   "execution_count": 52,
   "id": "09baa0f6-b9ea-42a3-958c-b5303f808258",
   "metadata": {},
   "outputs": [
    {
     "data": {
      "text/plain": [
       "array([ 6, 12, 18, 24, 30, 36, 42])"
      ]
     },
     "execution_count": 52,
     "metadata": {},
     "output_type": "execute_result"
    }
   ],
   "source": [
    "pares*3"
   ]
  },
  {
   "cell_type": "code",
   "execution_count": 53,
   "id": "e32ebd73-e7cf-4ba6-bd42-a3be47dc11aa",
   "metadata": {},
   "outputs": [
    {
     "data": {
      "text/plain": [
       "array([1.41421356, 2.        , 2.44948974, 2.82842712, 3.16227766,\n",
       "       3.46410162, 3.74165739])"
      ]
     },
     "execution_count": 53,
     "metadata": {},
     "output_type": "execute_result"
    }
   ],
   "source": [
    "pares**(1/2)"
   ]
  },
  {
   "cell_type": "markdown",
   "id": "2695f776-821c-4f8b-9f05-2d0e9b354b47",
   "metadata": {},
   "source": [
    "Al mismo arreglo, aplicale un +=10"
   ]
  },
  {
   "cell_type": "code",
   "execution_count": 58,
   "id": "d4992259-1122-4944-a0d6-374d0575804d",
   "metadata": {},
   "outputs": [
    {
     "data": {
      "text/plain": [
       "array([30, 32, 34, 36, 38, 40, 42])"
      ]
     },
     "execution_count": 58,
     "metadata": {},
     "output_type": "execute_result"
    }
   ],
   "source": [
    "pares +=10\n",
    "pares\n"
   ]
  },
  {
   "cell_type": "code",
   "execution_count": null,
   "id": "3a8503c2-a40c-4072-aa2f-d4b294473be8",
   "metadata": {},
   "outputs": [],
   "source": []
  },
  {
   "cell_type": "markdown",
   "id": "b22e54c6-c577-4ac8-aa03-ba0bcac2d3fc",
   "metadata": {},
   "source": [
    "Arma un arreglo (lista1) que vaya del 2 al 18 de 3 en 3, y otro arreglo (lista2) usando linspace que vaya del -2 al 20 dividido en 6 numeros\n",
    "\n",
    "- Resta lista1 de lista2\n",
    "- divide lista2 entre lista1"
   ]
  },
  {
   "cell_type": "code",
   "execution_count": 59,
   "id": "18e9cece-f0e9-4f9a-add7-f4c826b504a3",
   "metadata": {},
   "outputs": [
    {
     "data": {
      "text/plain": [
       "array([ 2,  5,  8, 11, 14, 17])"
      ]
     },
     "execution_count": 59,
     "metadata": {},
     "output_type": "execute_result"
    }
   ],
   "source": [
    "lista1 = np.arange(2,18,3)\n",
    "lista1"
   ]
  },
  {
   "cell_type": "code",
   "execution_count": 60,
   "id": "ac48faaf-cfa5-48cf-b223-9a5b5bc97fc6",
   "metadata": {},
   "outputs": [
    {
     "data": {
      "text/plain": [
       "array([-2. ,  2.4,  6.8, 11.2, 15.6, 20. ])"
      ]
     },
     "execution_count": 60,
     "metadata": {},
     "output_type": "execute_result"
    }
   ],
   "source": [
    "lista2 = np.linspace(-2,20,6)\n",
    "lista2"
   ]
  },
  {
   "cell_type": "code",
   "execution_count": 61,
   "id": "403522d1-cea2-4ed9-8f88-29630cb62ca8",
   "metadata": {},
   "outputs": [
    {
     "data": {
      "text/plain": [
       "array([-4. , -2.6, -1.2,  0.2,  1.6,  3. ])"
      ]
     },
     "execution_count": 61,
     "metadata": {},
     "output_type": "execute_result"
    }
   ],
   "source": [
    "lista2-lista1"
   ]
  },
  {
   "cell_type": "code",
   "execution_count": 62,
   "id": "815a3c1f-ed34-4370-a018-57ed09be051f",
   "metadata": {},
   "outputs": [
    {
     "data": {
      "text/plain": [
       "array([-1.        ,  0.48      ,  0.85      ,  1.01818182,  1.11428571,\n",
       "        1.17647059])"
      ]
     },
     "execution_count": 62,
     "metadata": {},
     "output_type": "execute_result"
    }
   ],
   "source": [
    "lista2/lista1"
   ]
  },
  {
   "cell_type": "markdown",
   "id": "5897287a-8941-4907-bdb1-32dba5bd7136",
   "metadata": {},
   "source": [
    "También puedes comparar los arreglos"
   ]
  },
  {
   "cell_type": "code",
   "execution_count": 63,
   "id": "fc580fd9-bbba-4b44-937b-655da377cd0f",
   "metadata": {},
   "outputs": [
    {
     "data": {
      "text/plain": [
       "array([False, False, False,  True,  True,  True])"
      ]
     },
     "execution_count": 63,
     "metadata": {},
     "output_type": "execute_result"
    }
   ],
   "source": [
    "lista1<lista2"
   ]
  },
  {
   "cell_type": "markdown",
   "id": "f04dc31f-ac5d-49f8-b2df-56309bcb819a",
   "metadata": {},
   "source": [
    "#### Por tu cuenta\n",
    "\n",
    "Crea un arreglo de los valores que vayan del 1 al 5, y luego elvealo al cuadrado usando **"
   ]
  },
  {
   "cell_type": "code",
   "execution_count": 64,
   "id": "11c82b43-a26b-4b77-ae97-b8386c278888",
   "metadata": {},
   "outputs": [
    {
     "name": "stdout",
     "output_type": "stream",
     "text": [
      "[ 1  4  9 16 25]\n"
     ]
    }
   ],
   "source": [
    "import numpy as np\n",
    "\n",
    "arr = np.array([1, 2, 3, 4, 5])\n",
    "\n",
    "\n",
    "arr_cuadrado = arr ** 2\n",
    "\n",
    "print(arr_cuadrado)\n"
   ]
  },
  {
   "cell_type": "markdown",
   "id": "f41f14b1-01d8-442e-b531-f5fa0f0548b2",
   "metadata": {},
   "source": [
    "### 7.3.2.- Métodos de Cálculo"
   ]
  },
  {
   "cell_type": "markdown",
   "id": "f358182e-1d2b-4c85-9e45-cc051902608d",
   "metadata": {},
   "source": [
    "Considera el siguiente arreglo \n",
    "\n",
    "ventas=np.array( [[554,606,710,851],[1244,898,416,1763],\n",
    " [841,655,1105,1067]])\n"
   ]
  },
  {
   "cell_type": "code",
   "execution_count": 65,
   "id": "62b63afa-5b31-4302-b574-54de2e11c304",
   "metadata": {},
   "outputs": [],
   "source": [
    "ventas=np.array( [[554,606,710,851],[1244,898,416,1763],\n",
    "[841,655,1105,1067]])"
   ]
  },
  {
   "cell_type": "markdown",
   "id": "0b33e26b-2f84-4781-8752-12add9733bb5",
   "metadata": {},
   "source": [
    "Podemos usar métodos para calcular la sum, min, max, mean, std, var. "
   ]
  },
  {
   "cell_type": "code",
   "execution_count": 66,
   "id": "4b99c6a9-d05c-4a90-87c1-5dbb23bb249c",
   "metadata": {},
   "outputs": [
    {
     "data": {
      "text/plain": [
       "array([[ 554,  606,  710,  851],\n",
       "       [1244,  898,  416, 1763],\n",
       "       [ 841,  655, 1105, 1067]])"
      ]
     },
     "execution_count": 66,
     "metadata": {},
     "output_type": "execute_result"
    }
   ],
   "source": [
    "ventas\n",
    "np.array([[ 554, 606, 710, 851],\n",
    "[1244, 898, 416, 1763],\n",
    "[ 841, 655, 1105, 1067]])"
   ]
  },
  {
   "cell_type": "code",
   "execution_count": 67,
   "id": "c371d504-5563-49b4-b758-e74a1affdade",
   "metadata": {},
   "outputs": [
    {
     "data": {
      "text/plain": [
       "np.int64(10710)"
      ]
     },
     "execution_count": 67,
     "metadata": {},
     "output_type": "execute_result"
    }
   ],
   "source": [
    "ventas.sum()"
   ]
  },
  {
   "cell_type": "code",
   "execution_count": 68,
   "id": "03d298ff-741f-4d10-bf40-4507d884fc07",
   "metadata": {},
   "outputs": [
    {
     "data": {
      "text/plain": [
       "np.int64(416)"
      ]
     },
     "execution_count": 68,
     "metadata": {},
     "output_type": "execute_result"
    }
   ],
   "source": [
    "ventas.min()"
   ]
  },
  {
   "cell_type": "code",
   "execution_count": 69,
   "id": "d9924a54-4ac2-4f57-a3a5-4b9318b0bdcd",
   "metadata": {},
   "outputs": [
    {
     "data": {
      "text/plain": [
       "np.int64(1763)"
      ]
     },
     "execution_count": 69,
     "metadata": {},
     "output_type": "execute_result"
    }
   ],
   "source": [
    "ventas.max()"
   ]
  },
  {
   "cell_type": "code",
   "execution_count": 70,
   "id": "0b5c6875-ac14-46da-a30b-8229ba473f3f",
   "metadata": {},
   "outputs": [
    {
     "data": {
      "text/plain": [
       "np.float64(892.5)"
      ]
     },
     "execution_count": 70,
     "metadata": {},
     "output_type": "execute_result"
    }
   ],
   "source": [
    "ventas.mean()"
   ]
  },
  {
   "cell_type": "code",
   "execution_count": 71,
   "id": "1b5f65d3-9aeb-4b2d-b777-7e86be52bc03",
   "metadata": {},
   "outputs": [
    {
     "data": {
      "text/plain": [
       "np.float64(350.56656524355924)"
      ]
     },
     "execution_count": 71,
     "metadata": {},
     "output_type": "execute_result"
    }
   ],
   "source": [
    "ventas.std()"
   ]
  },
  {
   "cell_type": "markdown",
   "id": "4fc48e4b-2a8d-40d6-ba91-eb30e2f74b0f",
   "metadata": {},
   "source": [
    "También es posible hacerlo por filas y columnas. Checa como se hace con axis = 1 y 0"
   ]
  },
  {
   "cell_type": "code",
   "execution_count": 72,
   "id": "27844143-2c16-4e20-a7f4-6802139181cd",
   "metadata": {},
   "outputs": [
    {
     "data": {
      "text/plain": [
       "np.float64(122896.91666666667)"
      ]
     },
     "execution_count": 72,
     "metadata": {},
     "output_type": "execute_result"
    }
   ],
   "source": [
    "ventas.var()"
   ]
  },
  {
   "cell_type": "code",
   "execution_count": 73,
   "id": "24329b3a-551e-4f32-860f-b7b9335c4712",
   "metadata": {},
   "outputs": [
    {
     "data": {
      "text/plain": [
       "array([ 879.66666667,  719.66666667,  743.66666667, 1227.        ])"
      ]
     },
     "execution_count": 73,
     "metadata": {},
     "output_type": "execute_result"
    }
   ],
   "source": [
    "ventas.mean(axis=0)"
   ]
  },
  {
   "cell_type": "code",
   "execution_count": 74,
   "id": "ef235a0b-696d-41f5-a3f2-a276bf586e95",
   "metadata": {},
   "outputs": [
    {
     "data": {
      "text/plain": [
       "array([ 680.25, 1080.25,  917.  ])"
      ]
     },
     "execution_count": 74,
     "metadata": {},
     "output_type": "execute_result"
    }
   ],
   "source": [
    "ventas.mean(axis=1)"
   ]
  },
  {
   "cell_type": "markdown",
   "id": "e4b63208-01e1-4caf-b071-d748fc92cac2",
   "metadata": {},
   "source": [
    "#### Por tu cuenta\n",
    "\n",
    "Usa el generador de numeros aleatoreos de numpy (np.random.randint) para crear una rreglo de 12 calificaciones aleatorias del 60 al 100, y luego dale forma en una matriz de 3x4. Calcula el promedio de todas las calificaciones, el promedio de cada columna y de cada fila. "
   ]
  },
  {
   "cell_type": "code",
   "execution_count": 75,
   "id": "fd074537-07c6-4f51-8d20-217a489c4ae0",
   "metadata": {},
   "outputs": [],
   "source": [
    "calificaciones = np.random.randint(60, 101, size=12)"
   ]
  },
  {
   "cell_type": "code",
   "execution_count": 76,
   "id": "ecca310d-e9df-4cc5-ad5a-db3b9f3dd206",
   "metadata": {},
   "outputs": [],
   "source": [
    "matriz = calificaciones.reshape(3, 4)"
   ]
  },
  {
   "cell_type": "code",
   "execution_count": 77,
   "id": "2441919c-8411-469b-bc59-6bc01ab76f18",
   "metadata": {},
   "outputs": [],
   "source": [
    "promedio_total = np.mean(matriz)"
   ]
  },
  {
   "cell_type": "code",
   "execution_count": 78,
   "id": "1f6400f6-d704-41c7-93bc-331d2f363df8",
   "metadata": {},
   "outputs": [],
   "source": [
    "promedio_filas = np.mean(matriz, axis=1)"
   ]
  },
  {
   "cell_type": "code",
   "execution_count": 79,
   "id": "fd3a8a77-5a2b-470b-955c-4b4b426c91d6",
   "metadata": {},
   "outputs": [],
   "source": [
    "promedio_columnas = np.mean(matriz, axis=0)"
   ]
  },
  {
   "cell_type": "code",
   "execution_count": 80,
   "id": "a69ce49c-2163-4757-8d99-1c3ea675330d",
   "metadata": {},
   "outputs": [
    {
     "name": "stdout",
     "output_type": "stream",
     "text": [
      "Matriz de calificaciones:\n",
      "[[ 80 100  85  97]\n",
      " [ 70  80  77  75]\n",
      " [ 95  66  64  84]]\n",
      "\n",
      "Promedio total de todas las calificaciones: 81.08333333333333\n",
      "Promedio de cada fila: [90.5  75.5  77.25]\n",
      "Promedio de cada columna: [81.66666667 82.         75.33333333 85.33333333]\n"
     ]
    }
   ],
   "source": [
    "print(\"Matriz de calificaciones:\")\n",
    "print(matriz)\n",
    "print(\"\\nPromedio total de todas las calificaciones:\", promedio_total)\n",
    "print(\"Promedio de cada fila:\", promedio_filas)\n",
    "print(\"Promedio de cada columna:\", promedio_columnas)"
   ]
  },
  {
   "cell_type": "markdown",
   "id": "fc6ab829-7417-43f3-942b-a28077f414bb",
   "metadata": {},
   "source": [
    "## 7.4.- Indexando y Cortando arreglos"
   ]
  },
  {
   "cell_type": "markdown",
   "id": "c969a299-6e36-4460-a97c-4f776bbe3740",
   "metadata": {},
   "source": [
    "Crea el arreglo\n",
    "\n",
    "ventas=np.array ([[ 554, 606, 710, 851],\n",
    " [1244, 898, 416, 1763],\n",
    " [ 841, 655, 1105, 1067]])\n",
    " \n",
    " - Selecciona el item 2,1\n",
    " - Selecciona el item 1,3\n",
    " - Selecciona la fila 1"
   ]
  },
  {
   "cell_type": "code",
   "execution_count": 81,
   "id": "dc7dce56-e29e-45aa-adc1-ac67a936f86e",
   "metadata": {},
   "outputs": [],
   "source": [
    "ventas=np.array ([[ 554, 606, 710, 851],\n",
    "[1244, 898, 416, 1763],\n",
    "[ 841, 655, 1105, 1067]])"
   ]
  },
  {
   "cell_type": "code",
   "execution_count": 83,
   "id": "ddc033d1-8c0c-48ef-8d83-5915df766fb9",
   "metadata": {},
   "outputs": [
    {
     "data": {
      "text/plain": [
       "np.int64(1763)"
      ]
     },
     "execution_count": 83,
     "metadata": {},
     "output_type": "execute_result"
    }
   ],
   "source": [
    "ventas[1,3]"
   ]
  },
  {
   "cell_type": "code",
   "execution_count": 84,
   "id": "1c7cc19b",
   "metadata": {},
   "outputs": [
    {
     "data": {
      "text/plain": [
       "np.int64(655)"
      ]
     },
     "execution_count": 84,
     "metadata": {},
     "output_type": "execute_result"
    }
   ],
   "source": [
    "ventas[2,1]"
   ]
  },
  {
   "cell_type": "markdown",
   "id": "d6ff1f34-3be0-4546-abbd-74d4b8e13e53",
   "metadata": {},
   "source": [
    "Solicita las filas con índices 0 y 1"
   ]
  },
  {
   "cell_type": "code",
   "execution_count": 85,
   "id": "9dee066c-16bd-431e-9118-9662c6fcb08a",
   "metadata": {},
   "outputs": [
    {
     "data": {
      "text/plain": [
       "array([[ 554,  606,  710,  851],\n",
       "       [1244,  898,  416, 1763]])"
      ]
     },
     "execution_count": 85,
     "metadata": {},
     "output_type": "execute_result"
    }
   ],
   "source": [
    "ventas[0:2]"
   ]
  },
  {
   "cell_type": "markdown",
   "id": "f24b5167-113b-4444-9e32-67c12458f5eb",
   "metadata": {},
   "source": [
    "Ahora para solicitar las filas con indices 1 y 2"
   ]
  },
  {
   "cell_type": "code",
   "execution_count": 86,
   "id": "5154ad7e-fc6c-4b61-9841-6dd7c7fd34c9",
   "metadata": {},
   "outputs": [
    {
     "data": {
      "text/plain": [
       "array([[1244,  898,  416, 1763],\n",
       "       [ 841,  655, 1105, 1067]])"
      ]
     },
     "execution_count": 86,
     "metadata": {},
     "output_type": "execute_result"
    }
   ],
   "source": [
    "ventas[1:3]"
   ]
  },
  {
   "cell_type": "markdown",
   "id": "c33757ef-e644-4547-9727-f310d0237e90",
   "metadata": {},
   "source": [
    "Quieres solo los elementos de la primera columna?"
   ]
  },
  {
   "cell_type": "code",
   "execution_count": 87,
   "id": "b0fbfc3a-1414-47be-94ac-df18d65cafc7",
   "metadata": {},
   "outputs": [
    {
     "data": {
      "text/plain": [
       "array([ 554, 1244,  841])"
      ]
     },
     "execution_count": 87,
     "metadata": {},
     "output_type": "execute_result"
    }
   ],
   "source": [
    "ventas[:,0]"
   ]
  },
  {
   "cell_type": "markdown",
   "id": "f8969bc1-1bbf-42c0-a38d-c59f861738e2",
   "metadata": {},
   "source": [
    "Que la las columnas con indices 0 y 2?"
   ]
  },
  {
   "cell_type": "code",
   "execution_count": 88,
   "id": "b8eb35a1-cf95-481f-8f4c-548132319028",
   "metadata": {},
   "outputs": [
    {
     "data": {
      "text/plain": [
       "array([[ 554,  710],\n",
       "       [1244,  416],\n",
       "       [ 841, 1105]])"
      ]
     },
     "execution_count": 88,
     "metadata": {},
     "output_type": "execute_result"
    }
   ],
   "source": [
    "ventas[:,[0,2]]"
   ]
  },
  {
   "cell_type": "markdown",
   "id": "cb73821a-c475-42e6-a7ea-503f89504517",
   "metadata": {},
   "source": [
    "#### Por tu cuenta\n",
    "\n",
    "Dado el siguiente arreglo\n",
    "\n",
    "array([[1,2,3,4,5],\n",
    "     [6,7,8,9,10],\n",
    "     [11,12,13,14,15]])\n",
    "\n",
    "- Selecciona la segunda fila\n",
    "- Selecciona la primera y tercera fila\n",
    "- Selecciona las tres columnas de enmedio"
   ]
  },
  {
   "cell_type": "code",
   "execution_count": 90,
   "id": "675c1945-945d-4b06-b0f6-72daed5b59a7",
   "metadata": {},
   "outputs": [
    {
     "data": {
      "text/plain": [
       "array([[ 1,  2,  3,  4,  5],\n",
       "       [ 6,  7,  8,  9, 10],\n",
       "       [11, 12, 13, 14, 15]])"
      ]
     },
     "execution_count": 90,
     "metadata": {},
     "output_type": "execute_result"
    }
   ],
   "source": [
    "np.array([[1,2,3,4,5],\n",
    "     [6,7,8,9,10],\n",
    "     [11,12,13,14,15]])"
   ]
  },
  {
   "cell_type": "code",
   "execution_count": 91,
   "id": "9d980184-42de-45f3-8bd1-b327cbb0f14c",
   "metadata": {},
   "outputs": [],
   "source": [
    "segunda_fila = arr[1]"
   ]
  },
  {
   "cell_type": "code",
   "execution_count": 92,
   "id": "7b48f140-6ab2-4815-a56f-a18d0e6549d9",
   "metadata": {},
   "outputs": [],
   "source": [
    "primer_y_tercer_fila = arr[[0, 2]]"
   ]
  },
  {
   "cell_type": "code",
   "execution_count": 99,
   "id": "df3c9b70-49c2-4af8-be89-1a59807769c7",
   "metadata": {},
   "outputs": [
    {
     "name": "stdout",
     "output_type": "stream",
     "text": [
      "Segunda fila: 2\n",
      "Primera y tercera fila: [1 3]\n"
     ]
    }
   ],
   "source": [
    "print(\"Segunda fila:\", segunda_fila)\n",
    "print(\"Primera y tercera fila:\", primer_y_tercer_fila)\n"
   ]
  },
  {
   "cell_type": "markdown",
   "id": "8ed698fe-8ed9-4b5a-9d46-245c1c01cda3",
   "metadata": {},
   "source": [
    "### 7.4.2.- Transponer"
   ]
  },
  {
   "cell_type": "markdown",
   "id": "c7fd8c57-a81a-46ca-a28a-798ba2768691",
   "metadata": {},
   "source": [
    "Con **reshape** puedes producir una copia superficial del arreglo con una nueva dimension. \n",
    "\n",
    "ventas = np.array([[ 500, 600, 550, 800],\n",
    " [1200, 800, 400,1000]])\n",
    "\n",
    "Usa el arreglo anterior para darle dimension de 1x8"
   ]
  },
  {
   "cell_type": "code",
   "execution_count": 100,
   "id": "58e2c7e7-96a8-4c4b-a295-57302850205f",
   "metadata": {},
   "outputs": [],
   "source": [
    "ventas = np.array([[ 500, 600, 550, 800],\n",
    "[1200, 800, 400,1000]])"
   ]
  },
  {
   "cell_type": "code",
   "execution_count": 101,
   "id": "e16542fe-41f9-4087-982b-47cca3737cba",
   "metadata": {},
   "outputs": [
    {
     "data": {
      "text/plain": [
       "array([[ 500,  600,  550,  800, 1200,  800,  400, 1000]])"
      ]
     },
     "execution_count": 101,
     "metadata": {},
     "output_type": "execute_result"
    }
   ],
   "source": [
    "ventas.reshape(1,8)"
   ]
  },
  {
   "cell_type": "code",
   "execution_count": 102,
   "id": "aeeadac0-5524-47f5-803f-7dd8e05df52e",
   "metadata": {},
   "outputs": [
    {
     "data": {
      "text/plain": [
       "array([[ 500,  600,  550,  800],\n",
       "       [1200,  800,  400, 1000]])"
      ]
     },
     "execution_count": 102,
     "metadata": {},
     "output_type": "execute_result"
    }
   ],
   "source": [
    "ventas"
   ]
  },
  {
   "cell_type": "markdown",
   "id": "e6acba71-89bf-4dad-9a32-97d0456a9d42",
   "metadata": {},
   "source": [
    "El metodo **resize** modifica la forma del original (no crea copia)"
   ]
  },
  {
   "cell_type": "code",
   "execution_count": 103,
   "id": "d3a09d74-276a-4058-b7eb-626be83f46ca",
   "metadata": {},
   "outputs": [],
   "source": [
    "ventas.resize(1,8)"
   ]
  },
  {
   "cell_type": "code",
   "execution_count": 104,
   "id": "0b6c4b5e-217b-452e-bb6a-da4bc127160c",
   "metadata": {},
   "outputs": [
    {
     "data": {
      "text/plain": [
       "array([[ 500,  600,  550,  800, 1200,  800,  400, 1000]])"
      ]
     },
     "execution_count": 104,
     "metadata": {},
     "output_type": "execute_result"
    }
   ],
   "source": [
    "ventas"
   ]
  },
  {
   "cell_type": "markdown",
   "id": "e29a637e-549e-4c80-b2c7-0ec892cc5823",
   "metadata": {},
   "source": [
    "Y **transpose** rapidamente le da la vuelta a filas y columnas, este se hace aplicando el atributo T, que no modifica el original, solo una vista."
   ]
  },
  {
   "cell_type": "code",
   "execution_count": 105,
   "id": "405d533c-7fe5-40a6-b050-09768d004b2e",
   "metadata": {},
   "outputs": [],
   "source": [
    "vector_ventas=ventas.flatten()"
   ]
  },
  {
   "cell_type": "markdown",
   "id": "446be823-0988-4ba6-b774-dd4be5653627",
   "metadata": {},
   "source": [
    "## 7.5.- Pandas - Series"
   ]
  },
  {
   "cell_type": "markdown",
   "id": "b3a5d8b4-6ecf-4679-bf47-9903d80d6d30",
   "metadata": {},
   "source": [
    "Vamos a usar estos datos para Series - tiempo_web = pd.Series([160,256,98,108])\n",
    "\n",
    "Este es el tiempo que invierten en videojuegos 4 estudiantes"
   ]
  },
  {
   "cell_type": "code",
   "execution_count": 106,
   "id": "e5e4af90-829b-41bd-83ee-9d98686e646c",
   "metadata": {},
   "outputs": [],
   "source": [
    "import pandas as pd"
   ]
  },
  {
   "cell_type": "code",
   "execution_count": 108,
   "id": "90dcae4b-11c5-477d-a2e6-6f74e51e4ba8",
   "metadata": {},
   "outputs": [],
   "source": [
    "tiempo_web = pd.Series([160,256,98,108])"
   ]
  },
  {
   "cell_type": "code",
   "execution_count": 109,
   "id": "21d21aba-f304-4ef5-8f4f-3237e68c0265",
   "metadata": {},
   "outputs": [
    {
     "data": {
      "text/plain": [
       "0    160\n",
       "1    256\n",
       "2     98\n",
       "3    108\n",
       "dtype: int64"
      ]
     },
     "execution_count": 109,
     "metadata": {},
     "output_type": "execute_result"
    }
   ],
   "source": [
    "tiempo_web"
   ]
  },
  {
   "cell_type": "markdown",
   "id": "6328aaa1-5e96-4f5f-8e8a-d3a0955eb951",
   "metadata": {},
   "source": [
    "Para crear una serie con el mismo elemento"
   ]
  },
  {
   "cell_type": "code",
   "execution_count": 110,
   "id": "533c703a-ffaf-4bbb-9bc4-91265e3a1597",
   "metadata": {},
   "outputs": [
    {
     "data": {
      "text/plain": [
       "0    3.1416\n",
       "1    3.1416\n",
       "2    3.1416\n",
       "3    3.1416\n",
       "4    3.1416\n",
       "dtype: float64"
      ]
     },
     "execution_count": 110,
     "metadata": {},
     "output_type": "execute_result"
    }
   ],
   "source": [
    "pd.Series(3.1416,range(5))"
   ]
  },
  {
   "cell_type": "markdown",
   "id": "84913618-dc50-4d63-bfae-c8df7ba75e90",
   "metadata": {},
   "source": [
    "Acceder a un elemento es facil"
   ]
  },
  {
   "cell_type": "code",
   "execution_count": 111,
   "id": "f554ada1-b2ff-4cc4-b78e-e762f1c798f4",
   "metadata": {},
   "outputs": [
    {
     "data": {
      "text/plain": [
       "np.int64(256)"
      ]
     },
     "execution_count": 111,
     "metadata": {},
     "output_type": "execute_result"
    }
   ],
   "source": [
    "tiempo_web[1]"
   ]
  },
  {
   "cell_type": "markdown",
   "id": "53762262-5359-4a6a-9b5b-677280c94372",
   "metadata": {},
   "source": [
    "Series tiene acceso a los mismos metodos que arreglos para estadistica descriptiva"
   ]
  },
  {
   "cell_type": "code",
   "execution_count": 112,
   "id": "1825114c-1497-4321-9d4d-938ae5b677f7",
   "metadata": {},
   "outputs": [
    {
     "data": {
      "text/plain": [
       "np.int64(4)"
      ]
     },
     "execution_count": 112,
     "metadata": {},
     "output_type": "execute_result"
    }
   ],
   "source": [
    "tiempo_web.count()"
   ]
  },
  {
   "cell_type": "code",
   "execution_count": 113,
   "id": "3f328111",
   "metadata": {},
   "outputs": [
    {
     "data": {
      "text/plain": [
       "np.float64(155.5)"
      ]
     },
     "execution_count": 113,
     "metadata": {},
     "output_type": "execute_result"
    }
   ],
   "source": [
    "tiempo_web.mean()"
   ]
  },
  {
   "cell_type": "code",
   "execution_count": 114,
   "id": "2d250b26",
   "metadata": {},
   "outputs": [
    {
     "data": {
      "text/plain": [
       "np.int64(98)"
      ]
     },
     "execution_count": 114,
     "metadata": {},
     "output_type": "execute_result"
    }
   ],
   "source": [
    "tiempo_web.min()"
   ]
  },
  {
   "cell_type": "code",
   "execution_count": 115,
   "id": "016d7b34",
   "metadata": {},
   "outputs": [
    {
     "data": {
      "text/plain": [
       "np.int64(256)"
      ]
     },
     "execution_count": 115,
     "metadata": {},
     "output_type": "execute_result"
    }
   ],
   "source": [
    "tiempo_web.max()"
   ]
  },
  {
   "cell_type": "code",
   "execution_count": 116,
   "id": "8c86bc39",
   "metadata": {},
   "outputs": [
    {
     "data": {
      "text/plain": [
       "np.float64(72.30260484012085)"
      ]
     },
     "execution_count": 116,
     "metadata": {},
     "output_type": "execute_result"
    }
   ],
   "source": [
    "tiempo_web.std()"
   ]
  },
  {
   "cell_type": "markdown",
   "id": "da94bc72-a01b-4e21-a69d-aea7ad822baf",
   "metadata": {},
   "source": [
    "Tambien, todo esto se puede resumir con **describe**"
   ]
  },
  {
   "cell_type": "code",
   "execution_count": 117,
   "id": "c00b33fc-5444-485f-b5c2-d9166b3f24e2",
   "metadata": {},
   "outputs": [
    {
     "data": {
      "text/plain": [
       "count      4.000000\n",
       "mean     155.500000\n",
       "std       72.302605\n",
       "min       98.000000\n",
       "25%      105.500000\n",
       "50%      134.000000\n",
       "75%      184.000000\n",
       "max      256.000000\n",
       "dtype: float64"
      ]
     },
     "execution_count": 117,
     "metadata": {},
     "output_type": "execute_result"
    }
   ],
   "source": [
    "tiempo_web.describe()"
   ]
  },
  {
   "cell_type": "markdown",
   "id": "699ec1ca-880f-4b3b-8bff-b0bbab8bd490",
   "metadata": {},
   "source": [
    "También podemos personalizar los indices de series a traves de index\n",
    "\n",
    "['Laura','Daniel','Alberto','Eva'] \n",
    "\n",
    "Asigna esos nombres"
   ]
  },
  {
   "cell_type": "code",
   "execution_count": 118,
   "id": "431dd272-ae38-4c30-aff9-c66824336000",
   "metadata": {},
   "outputs": [],
   "source": [
    "tiempo_web=pd.Series([160,256,98,108],index=\n",
    "['Laura','Daniel','Alberto','Eva'])"
   ]
  },
  {
   "cell_type": "code",
   "execution_count": 119,
   "id": "51517755-9a53-41bd-9804-d76aca88820d",
   "metadata": {},
   "outputs": [
    {
     "data": {
      "text/plain": [
       "Laura      160\n",
       "Daniel     256\n",
       "Alberto     98\n",
       "Eva        108\n",
       "dtype: int64"
      ]
     },
     "execution_count": 119,
     "metadata": {},
     "output_type": "execute_result"
    }
   ],
   "source": [
    "tiempo_web"
   ]
  },
  {
   "cell_type": "markdown",
   "id": "2493cf0c-c4e6-41ae-b13d-2dd390c2a460",
   "metadata": {},
   "source": [
    "O puedes usar un diccionario para eso:"
   ]
  },
  {
   "cell_type": "code",
   "execution_count": 120,
   "id": "41c0aa8c-e1a5-432d-8274-b8452c635249",
   "metadata": {},
   "outputs": [],
   "source": [
    "tiempo_web=pd.Series({'Laura':160,'Daniel':256,\n",
    "'Alberto':98,'Eva':108})"
   ]
  },
  {
   "cell_type": "code",
   "execution_count": 121,
   "id": "21cf3969-a19e-4e88-9a46-d4c90e005058",
   "metadata": {},
   "outputs": [
    {
     "data": {
      "text/plain": [
       "Laura      160\n",
       "Daniel     256\n",
       "Alberto     98\n",
       "Eva        108\n",
       "dtype: int64"
      ]
     },
     "execution_count": 121,
     "metadata": {},
     "output_type": "execute_result"
    }
   ],
   "source": [
    "tiempo_web"
   ]
  },
  {
   "cell_type": "markdown",
   "id": "96b10252-661d-40dd-8272-9aec8d23fa4f",
   "metadata": {},
   "source": [
    "Puedes llamar a los elementos personalizados"
   ]
  },
  {
   "cell_type": "code",
   "execution_count": 122,
   "id": "9840eec1-0ffe-43fc-8bde-c04fef78798d",
   "metadata": {},
   "outputs": [
    {
     "data": {
      "text/plain": [
       "np.int64(108)"
      ]
     },
     "execution_count": 122,
     "metadata": {},
     "output_type": "execute_result"
    }
   ],
   "source": [
    "tiempo_web['Eva']"
   ]
  },
  {
   "cell_type": "markdown",
   "id": "4fda0170-2977-4b09-b632-970103acfb2a",
   "metadata": {},
   "source": [
    "Tambien se pueden llamar como atributos"
   ]
  },
  {
   "cell_type": "code",
   "execution_count": 123,
   "id": "c34e0016-7036-4fc8-9d97-ada58c9e333a",
   "metadata": {},
   "outputs": [
    {
     "data": {
      "text/plain": [
       "np.int64(98)"
      ]
     },
     "execution_count": 123,
     "metadata": {},
     "output_type": "execute_result"
    }
   ],
   "source": [
    "tiempo_web.Alberto"
   ]
  },
  {
   "cell_type": "markdown",
   "id": "cc54c19a-3e01-4b0f-a387-8b30c1f73249",
   "metadata": {},
   "source": [
    "#### Por tu cuenta\n",
    "\n",
    "Usa el generador aleatorio de NumPy (np.random.randint) para generar 6 calificaciones del 60 al 100 y guardarlos en una serie. \n",
    "\n",
    "A continuación arma las siguientes tareas:\n",
    "\n",
    "- Convierte el arreglo en una serie llamada calificacion\n",
    "- Determina la min, max y promedio\n",
    "- Produce TODAS las estadisticas descriptivas"
   ]
  },
  {
   "cell_type": "code",
   "execution_count": 124,
   "id": "0c738c46-099d-4a90-9dd7-e75f1fc17d52",
   "metadata": {},
   "outputs": [],
   "source": [
    "calificaciones = np.random.randint(60, 101, size=6)"
   ]
  },
  {
   "cell_type": "code",
   "execution_count": 125,
   "id": "4d0ce195-7796-4f58-a524-b7da09833be7",
   "metadata": {},
   "outputs": [],
   "source": [
    "calificacion = pd.Series(calificaciones)"
   ]
  },
  {
   "cell_type": "code",
   "execution_count": 127,
   "id": "a3cd89e8-9222-4d01-9a6d-a1ff25d4f3a1",
   "metadata": {},
   "outputs": [],
   "source": [
    "min_calificacion = calificacion.min()"
   ]
  },
  {
   "cell_type": "code",
   "execution_count": 128,
   "id": "b25f696d-1314-414f-82f3-073fd2208405",
   "metadata": {},
   "outputs": [],
   "source": [
    "max_calificacion = calificacion.max()\n"
   ]
  },
  {
   "cell_type": "code",
   "execution_count": 129,
   "id": "94f44153-38d3-458e-96da-f48b83e00ba4",
   "metadata": {},
   "outputs": [],
   "source": [
    "promedio_calificacion = calificacion.mean()"
   ]
  },
  {
   "cell_type": "code",
   "execution_count": 126,
   "id": "6013999b-053e-47f2-9bbd-0a5bc7109049",
   "metadata": {},
   "outputs": [],
   "source": [
    "estadisticas = calificacion.describe()"
   ]
  },
  {
   "cell_type": "code",
   "execution_count": 130,
   "id": "5be1f623-5ea2-4f74-a6cf-d091ac86dfc3",
   "metadata": {},
   "outputs": [
    {
     "name": "stdout",
     "output_type": "stream",
     "text": [
      "Calificaciones: 0    92\n",
      "1    90\n",
      "2    98\n",
      "3    89\n",
      "4    98\n",
      "5    63\n",
      "dtype: int32\n",
      "Mínima: 63\n",
      "Máxima: 98\n",
      "Promedio: 88.33333333333333\n",
      "\n",
      "Estadísticas Descriptivas:\n",
      "count     6.000000\n",
      "mean     88.333333\n",
      "std      13.002564\n",
      "min      63.000000\n",
      "25%      89.250000\n",
      "50%      91.000000\n",
      "75%      96.500000\n",
      "max      98.000000\n",
      "dtype: float64\n"
     ]
    }
   ],
   "source": [
    "print(\"Calificaciones:\", calificacion)\n",
    "print(\"Mínima:\", min_calificacion)\n",
    "print(\"Máxima:\", max_calificacion)\n",
    "print(\"Promedio:\", promedio_calificacion)\n",
    "print(\"\\nEstadísticas Descriptivas:\")\n",
    "print(estadisticas)"
   ]
  },
  {
   "cell_type": "markdown",
   "id": "e1d8562d-ea27-411c-8862-52d3582dceaf",
   "metadata": {},
   "source": [
    "## 7.6.- Pandas - DataFrames"
   ]
  },
  {
   "cell_type": "markdown",
   "id": "fd5a2577-feb0-4dab-bfd5-af9d59bcfe5e",
   "metadata": {},
   "source": [
    "##### Crear un Dataframe de un diccionario\n",
    "\n",
    "Agarra este diccionario y conviertelo en un dataframe\n",
    "\n",
    " reg_peso = {'Vanesa':[68,67,66,65],'Kevin':[89,89,90,88],\n",
    " 'Fernanda':[59,60,60,62],'Patricia':[70,68,67,65]}"
   ]
  },
  {
   "cell_type": "code",
   "execution_count": 131,
   "id": "63b5157c-a78c-4c4f-8485-f758c37389af",
   "metadata": {},
   "outputs": [],
   "source": [
    "reg_peso = {'Vanesa':[68,67,66,65],'Kevin':[89,89,90,88],\n",
    "'Fernanda':[59,60,60,62],'Patricia':[70,68,67,65]}"
   ]
  },
  {
   "cell_type": "code",
   "execution_count": 132,
   "id": "cd368165-eb15-486b-87e4-8707bcc57418",
   "metadata": {},
   "outputs": [],
   "source": [
    "peso = pd.DataFrame(reg_peso)"
   ]
  },
  {
   "cell_type": "code",
   "execution_count": 133,
   "id": "c93dc85f-c74b-4592-aadf-ac6e7102ab5c",
   "metadata": {},
   "outputs": [
    {
     "data": {
      "text/html": [
       "<div>\n",
       "<style scoped>\n",
       "    .dataframe tbody tr th:only-of-type {\n",
       "        vertical-align: middle;\n",
       "    }\n",
       "\n",
       "    .dataframe tbody tr th {\n",
       "        vertical-align: top;\n",
       "    }\n",
       "\n",
       "    .dataframe thead th {\n",
       "        text-align: right;\n",
       "    }\n",
       "</style>\n",
       "<table border=\"1\" class=\"dataframe\">\n",
       "  <thead>\n",
       "    <tr style=\"text-align: right;\">\n",
       "      <th></th>\n",
       "      <th>Vanesa</th>\n",
       "      <th>Kevin</th>\n",
       "      <th>Fernanda</th>\n",
       "      <th>Patricia</th>\n",
       "    </tr>\n",
       "  </thead>\n",
       "  <tbody>\n",
       "    <tr>\n",
       "      <th>0</th>\n",
       "      <td>68</td>\n",
       "      <td>89</td>\n",
       "      <td>59</td>\n",
       "      <td>70</td>\n",
       "    </tr>\n",
       "    <tr>\n",
       "      <th>1</th>\n",
       "      <td>67</td>\n",
       "      <td>89</td>\n",
       "      <td>60</td>\n",
       "      <td>68</td>\n",
       "    </tr>\n",
       "    <tr>\n",
       "      <th>2</th>\n",
       "      <td>66</td>\n",
       "      <td>90</td>\n",
       "      <td>60</td>\n",
       "      <td>67</td>\n",
       "    </tr>\n",
       "    <tr>\n",
       "      <th>3</th>\n",
       "      <td>65</td>\n",
       "      <td>88</td>\n",
       "      <td>62</td>\n",
       "      <td>65</td>\n",
       "    </tr>\n",
       "  </tbody>\n",
       "</table>\n",
       "</div>"
      ],
      "text/plain": [
       "   Vanesa  Kevin  Fernanda  Patricia\n",
       "0      68     89        59        70\n",
       "1      67     89        60        68\n",
       "2      66     90        60        67\n",
       "3      65     88        62        65"
      ]
     },
     "execution_count": 133,
     "metadata": {},
     "output_type": "execute_result"
    }
   ],
   "source": [
    "peso"
   ]
  },
  {
   "cell_type": "markdown",
   "id": "dbc1ed3b-ea2f-489f-8b47-68c90c6e37f3",
   "metadata": {},
   "source": [
    "##### El atributo Index\n",
    "\n",
    "Añade los siguientes indices personalizados\n",
    "\n",
    "peso.index = ['Mes 1','Mes 2','Mes 3','Mes 4']"
   ]
  },
  {
   "cell_type": "code",
   "execution_count": 134,
   "id": "5fb7e38f-4046-401e-8ba4-09e01d79fc56",
   "metadata": {},
   "outputs": [],
   "source": [
    "peso.index = ['Mes 1','Mes 2','Mes 3','Mes 4']"
   ]
  },
  {
   "cell_type": "code",
   "execution_count": 135,
   "id": "c7fcaed2-3ecf-4375-8e6b-2405b3656327",
   "metadata": {},
   "outputs": [
    {
     "data": {
      "text/html": [
       "<div>\n",
       "<style scoped>\n",
       "    .dataframe tbody tr th:only-of-type {\n",
       "        vertical-align: middle;\n",
       "    }\n",
       "\n",
       "    .dataframe tbody tr th {\n",
       "        vertical-align: top;\n",
       "    }\n",
       "\n",
       "    .dataframe thead th {\n",
       "        text-align: right;\n",
       "    }\n",
       "</style>\n",
       "<table border=\"1\" class=\"dataframe\">\n",
       "  <thead>\n",
       "    <tr style=\"text-align: right;\">\n",
       "      <th></th>\n",
       "      <th>Vanesa</th>\n",
       "      <th>Kevin</th>\n",
       "      <th>Fernanda</th>\n",
       "      <th>Patricia</th>\n",
       "    </tr>\n",
       "  </thead>\n",
       "  <tbody>\n",
       "    <tr>\n",
       "      <th>Mes 1</th>\n",
       "      <td>68</td>\n",
       "      <td>89</td>\n",
       "      <td>59</td>\n",
       "      <td>70</td>\n",
       "    </tr>\n",
       "    <tr>\n",
       "      <th>Mes 2</th>\n",
       "      <td>67</td>\n",
       "      <td>89</td>\n",
       "      <td>60</td>\n",
       "      <td>68</td>\n",
       "    </tr>\n",
       "    <tr>\n",
       "      <th>Mes 3</th>\n",
       "      <td>66</td>\n",
       "      <td>90</td>\n",
       "      <td>60</td>\n",
       "      <td>67</td>\n",
       "    </tr>\n",
       "    <tr>\n",
       "      <th>Mes 4</th>\n",
       "      <td>65</td>\n",
       "      <td>88</td>\n",
       "      <td>62</td>\n",
       "      <td>65</td>\n",
       "    </tr>\n",
       "  </tbody>\n",
       "</table>\n",
       "</div>"
      ],
      "text/plain": [
       "       Vanesa  Kevin  Fernanda  Patricia\n",
       "Mes 1      68     89        59        70\n",
       "Mes 2      67     89        60        68\n",
       "Mes 3      66     90        60        67\n",
       "Mes 4      65     88        62        65"
      ]
     },
     "execution_count": 135,
     "metadata": {},
     "output_type": "execute_result"
    }
   ],
   "source": [
    "peso"
   ]
  },
  {
   "cell_type": "markdown",
   "id": "5865da9f-efe7-4389-8930-b80dfa1dfb4c",
   "metadata": {},
   "source": [
    "##### Accesar Columnas\n",
    "\n",
    "Selecciona la información de Fernanda"
   ]
  },
  {
   "cell_type": "code",
   "execution_count": 136,
   "id": "ad5133f7-8a39-4064-b38d-475570f0a83d",
   "metadata": {},
   "outputs": [
    {
     "data": {
      "text/plain": [
       "Mes 1    59\n",
       "Mes 2    60\n",
       "Mes 3    60\n",
       "Mes 4    62\n",
       "Name: Fernanda, dtype: int64"
      ]
     },
     "execution_count": 136,
     "metadata": {},
     "output_type": "execute_result"
    }
   ],
   "source": [
    "peso['Fernanda']"
   ]
  },
  {
   "cell_type": "markdown",
   "id": "de73087e-5f5a-4c42-a28d-c3d49adc5e62",
   "metadata": {},
   "source": [
    "Selecciona la de Patricia pero como atributo"
   ]
  },
  {
   "cell_type": "code",
   "execution_count": 137,
   "id": "922e871d-4817-43ae-80f4-0c3fa0689fcd",
   "metadata": {},
   "outputs": [
    {
     "data": {
      "text/plain": [
       "Mes 1    70\n",
       "Mes 2    68\n",
       "Mes 3    67\n",
       "Mes 4    65\n",
       "Name: Patricia, dtype: int64"
      ]
     },
     "execution_count": 137,
     "metadata": {},
     "output_type": "execute_result"
    }
   ],
   "source": [
    "peso.Patricia"
   ]
  },
  {
   "cell_type": "markdown",
   "id": "ddc61884-7689-47b4-acad-14c07386226c",
   "metadata": {},
   "source": [
    "##### Loc y iloc\n",
    "\n",
    "Selecciona la información del Mes1 usando Loc"
   ]
  },
  {
   "cell_type": "code",
   "execution_count": 138,
   "id": "1133eeb0-6a7f-4ee9-aa19-1b5d69e9aba9",
   "metadata": {},
   "outputs": [
    {
     "data": {
      "text/plain": [
       "Vanesa      68\n",
       "Kevin       89\n",
       "Fernanda    59\n",
       "Patricia    70\n",
       "Name: Mes 1, dtype: int64"
      ]
     },
     "execution_count": 138,
     "metadata": {},
     "output_type": "execute_result"
    }
   ],
   "source": [
    "peso.loc['Mes 1']"
   ]
  },
  {
   "cell_type": "markdown",
   "id": "43b4a2a9-021f-461f-96c5-a711cd27354d",
   "metadata": {},
   "source": [
    "Ahora solo la fila 1 usando iloc"
   ]
  },
  {
   "cell_type": "code",
   "execution_count": 139,
   "id": "77d9df78-af24-4652-bade-bf87cbbafd10",
   "metadata": {},
   "outputs": [
    {
     "data": {
      "text/plain": [
       "Vanesa      67\n",
       "Kevin       89\n",
       "Fernanda    60\n",
       "Patricia    68\n",
       "Name: Mes 2, dtype: int64"
      ]
     },
     "execution_count": 139,
     "metadata": {},
     "output_type": "execute_result"
    }
   ],
   "source": [
    "peso.iloc[1]"
   ]
  },
  {
   "cell_type": "markdown",
   "id": "e41971f3-a6cb-4dd9-91a3-58d240d8baa4",
   "metadata": {},
   "source": [
    "Ahora del Mes 1 al Mes 3 usando loc"
   ]
  },
  {
   "cell_type": "code",
   "execution_count": 140,
   "id": "0aead456-79b0-4de7-895b-064466924796",
   "metadata": {},
   "outputs": [
    {
     "data": {
      "text/html": [
       "<div>\n",
       "<style scoped>\n",
       "    .dataframe tbody tr th:only-of-type {\n",
       "        vertical-align: middle;\n",
       "    }\n",
       "\n",
       "    .dataframe tbody tr th {\n",
       "        vertical-align: top;\n",
       "    }\n",
       "\n",
       "    .dataframe thead th {\n",
       "        text-align: right;\n",
       "    }\n",
       "</style>\n",
       "<table border=\"1\" class=\"dataframe\">\n",
       "  <thead>\n",
       "    <tr style=\"text-align: right;\">\n",
       "      <th></th>\n",
       "      <th>Vanesa</th>\n",
       "      <th>Kevin</th>\n",
       "      <th>Fernanda</th>\n",
       "      <th>Patricia</th>\n",
       "    </tr>\n",
       "  </thead>\n",
       "  <tbody>\n",
       "    <tr>\n",
       "      <th>Mes 1</th>\n",
       "      <td>68</td>\n",
       "      <td>89</td>\n",
       "      <td>59</td>\n",
       "      <td>70</td>\n",
       "    </tr>\n",
       "    <tr>\n",
       "      <th>Mes 2</th>\n",
       "      <td>67</td>\n",
       "      <td>89</td>\n",
       "      <td>60</td>\n",
       "      <td>68</td>\n",
       "    </tr>\n",
       "    <tr>\n",
       "      <th>Mes 3</th>\n",
       "      <td>66</td>\n",
       "      <td>90</td>\n",
       "      <td>60</td>\n",
       "      <td>67</td>\n",
       "    </tr>\n",
       "  </tbody>\n",
       "</table>\n",
       "</div>"
      ],
      "text/plain": [
       "       Vanesa  Kevin  Fernanda  Patricia\n",
       "Mes 1      68     89        59        70\n",
       "Mes 2      67     89        60        68\n",
       "Mes 3      66     90        60        67"
      ]
     },
     "execution_count": 140,
     "metadata": {},
     "output_type": "execute_result"
    }
   ],
   "source": [
    "peso.loc['Mes 1':'Mes 3']"
   ]
  },
  {
   "cell_type": "markdown",
   "id": "f3c15123-91f2-4e18-be70-ea286393715b",
   "metadata": {},
   "source": [
    "Saca filas especificas (mes 1 y 3) usando loc"
   ]
  },
  {
   "cell_type": "code",
   "execution_count": 141,
   "id": "f55a53bb-ea3e-4800-a10f-a1d2526ce6d7",
   "metadata": {},
   "outputs": [
    {
     "data": {
      "text/html": [
       "<div>\n",
       "<style scoped>\n",
       "    .dataframe tbody tr th:only-of-type {\n",
       "        vertical-align: middle;\n",
       "    }\n",
       "\n",
       "    .dataframe tbody tr th {\n",
       "        vertical-align: top;\n",
       "    }\n",
       "\n",
       "    .dataframe thead th {\n",
       "        text-align: right;\n",
       "    }\n",
       "</style>\n",
       "<table border=\"1\" class=\"dataframe\">\n",
       "  <thead>\n",
       "    <tr style=\"text-align: right;\">\n",
       "      <th></th>\n",
       "      <th>Vanesa</th>\n",
       "      <th>Kevin</th>\n",
       "      <th>Fernanda</th>\n",
       "      <th>Patricia</th>\n",
       "    </tr>\n",
       "  </thead>\n",
       "  <tbody>\n",
       "    <tr>\n",
       "      <th>Mes 1</th>\n",
       "      <td>68</td>\n",
       "      <td>89</td>\n",
       "      <td>59</td>\n",
       "      <td>70</td>\n",
       "    </tr>\n",
       "    <tr>\n",
       "      <th>Mes 2</th>\n",
       "      <td>67</td>\n",
       "      <td>89</td>\n",
       "      <td>60</td>\n",
       "      <td>68</td>\n",
       "    </tr>\n",
       "    <tr>\n",
       "      <th>Mes 3</th>\n",
       "      <td>66</td>\n",
       "      <td>90</td>\n",
       "      <td>60</td>\n",
       "      <td>67</td>\n",
       "    </tr>\n",
       "  </tbody>\n",
       "</table>\n",
       "</div>"
      ],
      "text/plain": [
       "       Vanesa  Kevin  Fernanda  Patricia\n",
       "Mes 1      68     89        59        70\n",
       "Mes 2      67     89        60        68\n",
       "Mes 3      66     90        60        67"
      ]
     },
     "execution_count": 141,
     "metadata": {},
     "output_type": "execute_result"
    }
   ],
   "source": [
    "peso.loc['Mes 1':'Mes 3']"
   ]
  },
  {
   "cell_type": "markdown",
   "id": "047a7464-3cc9-4a78-8f91-6eab1f4ebea1",
   "metadata": {},
   "source": [
    "Y ahora los Meses 2 y 3 de Vanesa y Patricia solamente con loc"
   ]
  },
  {
   "cell_type": "code",
   "execution_count": 142,
   "id": "de605887-1a1b-4443-ab51-34ccabc0da62",
   "metadata": {},
   "outputs": [
    {
     "data": {
      "text/html": [
       "<div>\n",
       "<style scoped>\n",
       "    .dataframe tbody tr th:only-of-type {\n",
       "        vertical-align: middle;\n",
       "    }\n",
       "\n",
       "    .dataframe tbody tr th {\n",
       "        vertical-align: top;\n",
       "    }\n",
       "\n",
       "    .dataframe thead th {\n",
       "        text-align: right;\n",
       "    }\n",
       "</style>\n",
       "<table border=\"1\" class=\"dataframe\">\n",
       "  <thead>\n",
       "    <tr style=\"text-align: right;\">\n",
       "      <th></th>\n",
       "      <th>Vanesa</th>\n",
       "      <th>Patricia</th>\n",
       "    </tr>\n",
       "  </thead>\n",
       "  <tbody>\n",
       "    <tr>\n",
       "      <th>Mes 2</th>\n",
       "      <td>67</td>\n",
       "      <td>68</td>\n",
       "    </tr>\n",
       "    <tr>\n",
       "      <th>Mes 3</th>\n",
       "      <td>66</td>\n",
       "      <td>67</td>\n",
       "    </tr>\n",
       "  </tbody>\n",
       "</table>\n",
       "</div>"
      ],
      "text/plain": [
       "       Vanesa  Patricia\n",
       "Mes 2      67        68\n",
       "Mes 3      66        67"
      ]
     },
     "execution_count": 142,
     "metadata": {},
     "output_type": "execute_result"
    }
   ],
   "source": [
    "peso.loc['Mes 2':'Mes 3',['Vanesa','Patricia']]"
   ]
  },
  {
   "cell_type": "markdown",
   "id": "dff5c389-8633-4f16-bb42-e11a3f1430a1",
   "metadata": {},
   "source": [
    "##### Indices Booleanos\n",
    "\n",
    "Dime los pesos mayores a 70kg en la tabla"
   ]
  },
  {
   "cell_type": "code",
   "execution_count": 143,
   "id": "d3b29ad2-ac97-49fa-9c0c-1c0521dffd22",
   "metadata": {},
   "outputs": [
    {
     "data": {
      "text/html": [
       "<div>\n",
       "<style scoped>\n",
       "    .dataframe tbody tr th:only-of-type {\n",
       "        vertical-align: middle;\n",
       "    }\n",
       "\n",
       "    .dataframe tbody tr th {\n",
       "        vertical-align: top;\n",
       "    }\n",
       "\n",
       "    .dataframe thead th {\n",
       "        text-align: right;\n",
       "    }\n",
       "</style>\n",
       "<table border=\"1\" class=\"dataframe\">\n",
       "  <thead>\n",
       "    <tr style=\"text-align: right;\">\n",
       "      <th></th>\n",
       "      <th>Vanesa</th>\n",
       "      <th>Kevin</th>\n",
       "      <th>Fernanda</th>\n",
       "      <th>Patricia</th>\n",
       "    </tr>\n",
       "  </thead>\n",
       "  <tbody>\n",
       "    <tr>\n",
       "      <th>Mes 1</th>\n",
       "      <td>NaN</td>\n",
       "      <td>89</td>\n",
       "      <td>NaN</td>\n",
       "      <td>70.0</td>\n",
       "    </tr>\n",
       "    <tr>\n",
       "      <th>Mes 2</th>\n",
       "      <td>NaN</td>\n",
       "      <td>89</td>\n",
       "      <td>NaN</td>\n",
       "      <td>NaN</td>\n",
       "    </tr>\n",
       "    <tr>\n",
       "      <th>Mes 3</th>\n",
       "      <td>NaN</td>\n",
       "      <td>90</td>\n",
       "      <td>NaN</td>\n",
       "      <td>NaN</td>\n",
       "    </tr>\n",
       "    <tr>\n",
       "      <th>Mes 4</th>\n",
       "      <td>NaN</td>\n",
       "      <td>88</td>\n",
       "      <td>NaN</td>\n",
       "      <td>NaN</td>\n",
       "    </tr>\n",
       "  </tbody>\n",
       "</table>\n",
       "</div>"
      ],
      "text/plain": [
       "       Vanesa  Kevin  Fernanda  Patricia\n",
       "Mes 1     NaN     89       NaN      70.0\n",
       "Mes 2     NaN     89       NaN       NaN\n",
       "Mes 3     NaN     90       NaN       NaN\n",
       "Mes 4     NaN     88       NaN       NaN"
      ]
     },
     "execution_count": 143,
     "metadata": {},
     "output_type": "execute_result"
    }
   ],
   "source": [
    "peso[peso>=70]"
   ]
  },
  {
   "cell_type": "markdown",
   "id": "57e29244-e5a0-4ff1-8fb0-a1722694f8e1",
   "metadata": {},
   "source": [
    "Y ahora los pesos mayores a 65kg y menores a 80kg"
   ]
  },
  {
   "cell_type": "code",
   "execution_count": 144,
   "id": "1f2f7128-8878-4fe7-a0be-7cf802513daf",
   "metadata": {},
   "outputs": [
    {
     "data": {
      "text/html": [
       "<div>\n",
       "<style scoped>\n",
       "    .dataframe tbody tr th:only-of-type {\n",
       "        vertical-align: middle;\n",
       "    }\n",
       "\n",
       "    .dataframe tbody tr th {\n",
       "        vertical-align: top;\n",
       "    }\n",
       "\n",
       "    .dataframe thead th {\n",
       "        text-align: right;\n",
       "    }\n",
       "</style>\n",
       "<table border=\"1\" class=\"dataframe\">\n",
       "  <thead>\n",
       "    <tr style=\"text-align: right;\">\n",
       "      <th></th>\n",
       "      <th>Vanesa</th>\n",
       "      <th>Kevin</th>\n",
       "      <th>Fernanda</th>\n",
       "      <th>Patricia</th>\n",
       "    </tr>\n",
       "  </thead>\n",
       "  <tbody>\n",
       "    <tr>\n",
       "      <th>Mes 1</th>\n",
       "      <td>68.0</td>\n",
       "      <td>NaN</td>\n",
       "      <td>NaN</td>\n",
       "      <td>70.0</td>\n",
       "    </tr>\n",
       "    <tr>\n",
       "      <th>Mes 2</th>\n",
       "      <td>67.0</td>\n",
       "      <td>NaN</td>\n",
       "      <td>NaN</td>\n",
       "      <td>68.0</td>\n",
       "    </tr>\n",
       "    <tr>\n",
       "      <th>Mes 3</th>\n",
       "      <td>66.0</td>\n",
       "      <td>NaN</td>\n",
       "      <td>NaN</td>\n",
       "      <td>67.0</td>\n",
       "    </tr>\n",
       "    <tr>\n",
       "      <th>Mes 4</th>\n",
       "      <td>NaN</td>\n",
       "      <td>NaN</td>\n",
       "      <td>NaN</td>\n",
       "      <td>NaN</td>\n",
       "    </tr>\n",
       "  </tbody>\n",
       "</table>\n",
       "</div>"
      ],
      "text/plain": [
       "       Vanesa  Kevin  Fernanda  Patricia\n",
       "Mes 1    68.0    NaN       NaN      70.0\n",
       "Mes 2    67.0    NaN       NaN      68.0\n",
       "Mes 3    66.0    NaN       NaN      67.0\n",
       "Mes 4     NaN    NaN       NaN       NaN"
      ]
     },
     "execution_count": 144,
     "metadata": {},
     "output_type": "execute_result"
    }
   ],
   "source": [
    "peso[(peso>65)&(peso<80)]"
   ]
  },
  {
   "cell_type": "markdown",
   "id": "90c14bd6-1e0b-4075-aac5-4b535f422e5b",
   "metadata": {},
   "source": [
    "##### Accesar una celda especifica de un Dataframe\n",
    "\n",
    "Que pasa si solo queremos cuanto pesaba Patricia en el mes 3? Usa at"
   ]
  },
  {
   "cell_type": "code",
   "execution_count": 145,
   "id": "1bb262d0-6d83-4802-aadf-dbac198386fa",
   "metadata": {},
   "outputs": [
    {
     "data": {
      "text/plain": [
       "np.int64(67)"
      ]
     },
     "execution_count": 145,
     "metadata": {},
     "output_type": "execute_result"
    }
   ],
   "source": [
    "peso.at['Mes 3','Patricia']"
   ]
  },
  {
   "cell_type": "markdown",
   "id": "21bc424c-ee80-447b-8473-6bf8a8f4cf16",
   "metadata": {},
   "source": [
    "Resulta que Kevin en realidad pesaba 85kg en el mes 4, cambia su valor usando at"
   ]
  },
  {
   "cell_type": "code",
   "execution_count": 146,
   "id": "47135819-af97-4cea-bb7a-9483bf8cf3ec",
   "metadata": {},
   "outputs": [],
   "source": [
    "peso.at['Mes 4','Kevin']=85"
   ]
  },
  {
   "cell_type": "code",
   "execution_count": 147,
   "id": "f7886329-4b1d-467d-a71b-53f8ca53ca0f",
   "metadata": {},
   "outputs": [
    {
     "data": {
      "text/plain": [
       "np.int64(85)"
      ]
     },
     "execution_count": 147,
     "metadata": {},
     "output_type": "execute_result"
    }
   ],
   "source": [
    "peso.at['Mes 4','Kevin']"
   ]
  },
  {
   "cell_type": "markdown",
   "id": "3d2c9477-5a2d-4c10-9e3d-a95ffa60941b",
   "metadata": {},
   "source": [
    "##### Estádistica descriptiva\n",
    "\n",
    "Puedes usar el metodo **Describe** para sacar todas las estadisticas del dataframe"
   ]
  },
  {
   "cell_type": "code",
   "execution_count": 148,
   "id": "99a4bb9a-8837-4142-8a73-bca6cd941204",
   "metadata": {},
   "outputs": [
    {
     "data": {
      "text/html": [
       "<div>\n",
       "<style scoped>\n",
       "    .dataframe tbody tr th:only-of-type {\n",
       "        vertical-align: middle;\n",
       "    }\n",
       "\n",
       "    .dataframe tbody tr th {\n",
       "        vertical-align: top;\n",
       "    }\n",
       "\n",
       "    .dataframe thead th {\n",
       "        text-align: right;\n",
       "    }\n",
       "</style>\n",
       "<table border=\"1\" class=\"dataframe\">\n",
       "  <thead>\n",
       "    <tr style=\"text-align: right;\">\n",
       "      <th></th>\n",
       "      <th>Vanesa</th>\n",
       "      <th>Kevin</th>\n",
       "      <th>Fernanda</th>\n",
       "      <th>Patricia</th>\n",
       "    </tr>\n",
       "  </thead>\n",
       "  <tbody>\n",
       "    <tr>\n",
       "      <th>count</th>\n",
       "      <td>4.000000</td>\n",
       "      <td>4.000000</td>\n",
       "      <td>4.000000</td>\n",
       "      <td>4.000000</td>\n",
       "    </tr>\n",
       "    <tr>\n",
       "      <th>mean</th>\n",
       "      <td>66.500000</td>\n",
       "      <td>88.250000</td>\n",
       "      <td>60.250000</td>\n",
       "      <td>67.500000</td>\n",
       "    </tr>\n",
       "    <tr>\n",
       "      <th>std</th>\n",
       "      <td>1.290994</td>\n",
       "      <td>2.217356</td>\n",
       "      <td>1.258306</td>\n",
       "      <td>2.081666</td>\n",
       "    </tr>\n",
       "    <tr>\n",
       "      <th>min</th>\n",
       "      <td>65.000000</td>\n",
       "      <td>85.000000</td>\n",
       "      <td>59.000000</td>\n",
       "      <td>65.000000</td>\n",
       "    </tr>\n",
       "    <tr>\n",
       "      <th>25%</th>\n",
       "      <td>65.750000</td>\n",
       "      <td>88.000000</td>\n",
       "      <td>59.750000</td>\n",
       "      <td>66.500000</td>\n",
       "    </tr>\n",
       "    <tr>\n",
       "      <th>50%</th>\n",
       "      <td>66.500000</td>\n",
       "      <td>89.000000</td>\n",
       "      <td>60.000000</td>\n",
       "      <td>67.500000</td>\n",
       "    </tr>\n",
       "    <tr>\n",
       "      <th>75%</th>\n",
       "      <td>67.250000</td>\n",
       "      <td>89.250000</td>\n",
       "      <td>60.500000</td>\n",
       "      <td>68.500000</td>\n",
       "    </tr>\n",
       "    <tr>\n",
       "      <th>max</th>\n",
       "      <td>68.000000</td>\n",
       "      <td>90.000000</td>\n",
       "      <td>62.000000</td>\n",
       "      <td>70.000000</td>\n",
       "    </tr>\n",
       "  </tbody>\n",
       "</table>\n",
       "</div>"
      ],
      "text/plain": [
       "          Vanesa      Kevin   Fernanda   Patricia\n",
       "count   4.000000   4.000000   4.000000   4.000000\n",
       "mean   66.500000  88.250000  60.250000  67.500000\n",
       "std     1.290994   2.217356   1.258306   2.081666\n",
       "min    65.000000  85.000000  59.000000  65.000000\n",
       "25%    65.750000  88.000000  59.750000  66.500000\n",
       "50%    66.500000  89.000000  60.000000  67.500000\n",
       "75%    67.250000  89.250000  60.500000  68.500000\n",
       "max    68.000000  90.000000  62.000000  70.000000"
      ]
     },
     "execution_count": 148,
     "metadata": {},
     "output_type": "execute_result"
    }
   ],
   "source": [
    "peso.describe()"
   ]
  },
  {
   "cell_type": "markdown",
   "id": "c398e7ad-c0c7-4b91-be05-1afb9a28b2cc",
   "metadata": {},
   "source": [
    "También puedes cambiar la cantidad de decimales usando **Precision**"
   ]
  },
  {
   "cell_type": "code",
   "execution_count": 149,
   "id": "e23483aa-11e5-488f-a341-0ce6bd2ca718",
   "metadata": {},
   "outputs": [
    {
     "ename": "OptionError",
     "evalue": "Pattern matched multiple keys",
     "output_type": "error",
     "traceback": [
      "\u001b[31m---------------------------------------------------------------------------\u001b[39m",
      "\u001b[31mOptionError\u001b[39m                               Traceback (most recent call last)",
      "\u001b[36mCell\u001b[39m\u001b[36m \u001b[39m\u001b[32mIn[149]\u001b[39m\u001b[32m, line 1\u001b[39m\n\u001b[32m----> \u001b[39m\u001b[32m1\u001b[39m \u001b[43mpd\u001b[49m\u001b[43m.\u001b[49m\u001b[43mset_option\u001b[49m\u001b[43m(\u001b[49m\u001b[33;43m'\u001b[39;49m\u001b[33;43mprecision\u001b[39;49m\u001b[33;43m'\u001b[39;49m\u001b[43m,\u001b[49m\u001b[32;43m1\u001b[39;49m\u001b[43m)\u001b[49m\n",
      "\u001b[36mFile \u001b[39m\u001b[32mc:\\Users\\vale2\\AppData\\Local\\Programs\\Python\\Python313\\Lib\\site-packages\\pandas\\_config\\config.py:274\u001b[39m, in \u001b[36mCallableDynamicDoc.__call__\u001b[39m\u001b[34m(self, *args, **kwds)\u001b[39m\n\u001b[32m    273\u001b[39m \u001b[38;5;28;01mdef\u001b[39;00m\u001b[38;5;250m \u001b[39m\u001b[34m__call__\u001b[39m(\u001b[38;5;28mself\u001b[39m, *args, **kwds) -> T:\n\u001b[32m--> \u001b[39m\u001b[32m274\u001b[39m     \u001b[38;5;28;01mreturn\u001b[39;00m \u001b[38;5;28;43mself\u001b[39;49m\u001b[43m.\u001b[49m\u001b[34;43m__func__\u001b[39;49m\u001b[43m(\u001b[49m\u001b[43m*\u001b[49m\u001b[43margs\u001b[49m\u001b[43m,\u001b[49m\u001b[43m \u001b[49m\u001b[43m*\u001b[49m\u001b[43m*\u001b[49m\u001b[43mkwds\u001b[49m\u001b[43m)\u001b[49m\n",
      "\u001b[36mFile \u001b[39m\u001b[32mc:\\Users\\vale2\\AppData\\Local\\Programs\\Python\\Python313\\Lib\\site-packages\\pandas\\_config\\config.py:167\u001b[39m, in \u001b[36m_set_option\u001b[39m\u001b[34m(*args, **kwargs)\u001b[39m\n\u001b[32m    164\u001b[39m     \u001b[38;5;28;01mraise\u001b[39;00m \u001b[38;5;167;01mTypeError\u001b[39;00m(\u001b[33mf\u001b[39m\u001b[33m'\u001b[39m\u001b[33m_set_option() got an unexpected keyword argument \u001b[39m\u001b[33m\"\u001b[39m\u001b[38;5;132;01m{\u001b[39;00mkwarg\u001b[38;5;132;01m}\u001b[39;00m\u001b[33m\"\u001b[39m\u001b[33m'\u001b[39m)\n\u001b[32m    166\u001b[39m \u001b[38;5;28;01mfor\u001b[39;00m k, v \u001b[38;5;129;01min\u001b[39;00m \u001b[38;5;28mzip\u001b[39m(args[::\u001b[32m2\u001b[39m], args[\u001b[32m1\u001b[39m::\u001b[32m2\u001b[39m]):\n\u001b[32m--> \u001b[39m\u001b[32m167\u001b[39m     key = \u001b[43m_get_single_key\u001b[49m\u001b[43m(\u001b[49m\u001b[43mk\u001b[49m\u001b[43m,\u001b[49m\u001b[43m \u001b[49m\u001b[43msilent\u001b[49m\u001b[43m)\u001b[49m\n\u001b[32m    169\u001b[39m     o = _get_registered_option(key)\n\u001b[32m    170\u001b[39m     \u001b[38;5;28;01mif\u001b[39;00m o \u001b[38;5;129;01mand\u001b[39;00m o.validator:\n",
      "\u001b[36mFile \u001b[39m\u001b[32mc:\\Users\\vale2\\AppData\\Local\\Programs\\Python\\Python313\\Lib\\site-packages\\pandas\\_config\\config.py:134\u001b[39m, in \u001b[36m_get_single_key\u001b[39m\u001b[34m(pat, silent)\u001b[39m\n\u001b[32m    132\u001b[39m     \u001b[38;5;28;01mraise\u001b[39;00m OptionError(\u001b[33mf\u001b[39m\u001b[33m\"\u001b[39m\u001b[33mNo such keys(s): \u001b[39m\u001b[38;5;132;01m{\u001b[39;00m\u001b[38;5;28mrepr\u001b[39m(pat)\u001b[38;5;132;01m}\u001b[39;00m\u001b[33m\"\u001b[39m)\n\u001b[32m    133\u001b[39m \u001b[38;5;28;01mif\u001b[39;00m \u001b[38;5;28mlen\u001b[39m(keys) > \u001b[32m1\u001b[39m:\n\u001b[32m--> \u001b[39m\u001b[32m134\u001b[39m     \u001b[38;5;28;01mraise\u001b[39;00m OptionError(\u001b[33m\"\u001b[39m\u001b[33mPattern matched multiple keys\u001b[39m\u001b[33m\"\u001b[39m)\n\u001b[32m    135\u001b[39m key = keys[\u001b[32m0\u001b[39m]\n\u001b[32m    137\u001b[39m \u001b[38;5;28;01mif\u001b[39;00m \u001b[38;5;129;01mnot\u001b[39;00m silent:\n",
      "\u001b[31mOptionError\u001b[39m: Pattern matched multiple keys"
     ]
    }
   ],
   "source": [
    "pd.set_option('precision',1)"
   ]
  },
  {
   "cell_type": "code",
   "execution_count": 150,
   "id": "e130504d-22b0-4b29-a6f5-aba46dfc2d9c",
   "metadata": {},
   "outputs": [
    {
     "data": {
      "text/html": [
       "<div>\n",
       "<style scoped>\n",
       "    .dataframe tbody tr th:only-of-type {\n",
       "        vertical-align: middle;\n",
       "    }\n",
       "\n",
       "    .dataframe tbody tr th {\n",
       "        vertical-align: top;\n",
       "    }\n",
       "\n",
       "    .dataframe thead th {\n",
       "        text-align: right;\n",
       "    }\n",
       "</style>\n",
       "<table border=\"1\" class=\"dataframe\">\n",
       "  <thead>\n",
       "    <tr style=\"text-align: right;\">\n",
       "      <th></th>\n",
       "      <th>Vanesa</th>\n",
       "      <th>Kevin</th>\n",
       "      <th>Fernanda</th>\n",
       "      <th>Patricia</th>\n",
       "    </tr>\n",
       "  </thead>\n",
       "  <tbody>\n",
       "    <tr>\n",
       "      <th>count</th>\n",
       "      <td>4.000000</td>\n",
       "      <td>4.000000</td>\n",
       "      <td>4.000000</td>\n",
       "      <td>4.000000</td>\n",
       "    </tr>\n",
       "    <tr>\n",
       "      <th>mean</th>\n",
       "      <td>66.500000</td>\n",
       "      <td>88.250000</td>\n",
       "      <td>60.250000</td>\n",
       "      <td>67.500000</td>\n",
       "    </tr>\n",
       "    <tr>\n",
       "      <th>std</th>\n",
       "      <td>1.290994</td>\n",
       "      <td>2.217356</td>\n",
       "      <td>1.258306</td>\n",
       "      <td>2.081666</td>\n",
       "    </tr>\n",
       "    <tr>\n",
       "      <th>min</th>\n",
       "      <td>65.000000</td>\n",
       "      <td>85.000000</td>\n",
       "      <td>59.000000</td>\n",
       "      <td>65.000000</td>\n",
       "    </tr>\n",
       "    <tr>\n",
       "      <th>25%</th>\n",
       "      <td>65.750000</td>\n",
       "      <td>88.000000</td>\n",
       "      <td>59.750000</td>\n",
       "      <td>66.500000</td>\n",
       "    </tr>\n",
       "    <tr>\n",
       "      <th>50%</th>\n",
       "      <td>66.500000</td>\n",
       "      <td>89.000000</td>\n",
       "      <td>60.000000</td>\n",
       "      <td>67.500000</td>\n",
       "    </tr>\n",
       "    <tr>\n",
       "      <th>75%</th>\n",
       "      <td>67.250000</td>\n",
       "      <td>89.250000</td>\n",
       "      <td>60.500000</td>\n",
       "      <td>68.500000</td>\n",
       "    </tr>\n",
       "    <tr>\n",
       "      <th>max</th>\n",
       "      <td>68.000000</td>\n",
       "      <td>90.000000</td>\n",
       "      <td>62.000000</td>\n",
       "      <td>70.000000</td>\n",
       "    </tr>\n",
       "  </tbody>\n",
       "</table>\n",
       "</div>"
      ],
      "text/plain": [
       "          Vanesa      Kevin   Fernanda   Patricia\n",
       "count   4.000000   4.000000   4.000000   4.000000\n",
       "mean   66.500000  88.250000  60.250000  67.500000\n",
       "std     1.290994   2.217356   1.258306   2.081666\n",
       "min    65.000000  85.000000  59.000000  65.000000\n",
       "25%    65.750000  88.000000  59.750000  66.500000\n",
       "50%    66.500000  89.000000  60.000000  67.500000\n",
       "75%    67.250000  89.250000  60.500000  68.500000\n",
       "max    68.000000  90.000000  62.000000  70.000000"
      ]
     },
     "execution_count": 150,
     "metadata": {},
     "output_type": "execute_result"
    }
   ],
   "source": [
    "peso.describe()"
   ]
  },
  {
   "cell_type": "markdown",
   "id": "62e66306-03f4-443a-917e-f3d10a1e7603",
   "metadata": {},
   "source": [
    "Y también se pueden aplicar los metodos de estadistica descriptiva individuales como mean"
   ]
  },
  {
   "cell_type": "code",
   "execution_count": 151,
   "id": "81950ce6-bf4a-4d18-8de5-5a58d24c64ca",
   "metadata": {},
   "outputs": [
    {
     "data": {
      "text/plain": [
       "Vanesa      66.50\n",
       "Kevin       88.25\n",
       "Fernanda    60.25\n",
       "Patricia    67.50\n",
       "dtype: float64"
      ]
     },
     "execution_count": 151,
     "metadata": {},
     "output_type": "execute_result"
    }
   ],
   "source": [
    "peso.mean()"
   ]
  },
  {
   "cell_type": "markdown",
   "id": "467812ad-6fc3-4458-908b-4033b8d8e1b5",
   "metadata": {},
   "source": [
    "##### Transponer\n",
    "\n",
    "Si quisieramos voltear el dataframe, tendríamos que hacer el método T"
   ]
  },
  {
   "cell_type": "code",
   "execution_count": 152,
   "id": "c7e2e759-2640-4b2d-8b39-0cd8c411b222",
   "metadata": {},
   "outputs": [
    {
     "data": {
      "text/html": [
       "<div>\n",
       "<style scoped>\n",
       "    .dataframe tbody tr th:only-of-type {\n",
       "        vertical-align: middle;\n",
       "    }\n",
       "\n",
       "    .dataframe tbody tr th {\n",
       "        vertical-align: top;\n",
       "    }\n",
       "\n",
       "    .dataframe thead th {\n",
       "        text-align: right;\n",
       "    }\n",
       "</style>\n",
       "<table border=\"1\" class=\"dataframe\">\n",
       "  <thead>\n",
       "    <tr style=\"text-align: right;\">\n",
       "      <th></th>\n",
       "      <th>Mes 1</th>\n",
       "      <th>Mes 2</th>\n",
       "      <th>Mes 3</th>\n",
       "      <th>Mes 4</th>\n",
       "    </tr>\n",
       "  </thead>\n",
       "  <tbody>\n",
       "    <tr>\n",
       "      <th>Vanesa</th>\n",
       "      <td>68</td>\n",
       "      <td>67</td>\n",
       "      <td>66</td>\n",
       "      <td>65</td>\n",
       "    </tr>\n",
       "    <tr>\n",
       "      <th>Kevin</th>\n",
       "      <td>89</td>\n",
       "      <td>89</td>\n",
       "      <td>90</td>\n",
       "      <td>85</td>\n",
       "    </tr>\n",
       "    <tr>\n",
       "      <th>Fernanda</th>\n",
       "      <td>59</td>\n",
       "      <td>60</td>\n",
       "      <td>60</td>\n",
       "      <td>62</td>\n",
       "    </tr>\n",
       "    <tr>\n",
       "      <th>Patricia</th>\n",
       "      <td>70</td>\n",
       "      <td>68</td>\n",
       "      <td>67</td>\n",
       "      <td>65</td>\n",
       "    </tr>\n",
       "  </tbody>\n",
       "</table>\n",
       "</div>"
      ],
      "text/plain": [
       "          Mes 1  Mes 2  Mes 3  Mes 4\n",
       "Vanesa       68     67     66     65\n",
       "Kevin        89     89     90     85\n",
       "Fernanda     59     60     60     62\n",
       "Patricia     70     68     67     65"
      ]
     },
     "execution_count": 152,
     "metadata": {},
     "output_type": "execute_result"
    }
   ],
   "source": [
    "peso.T"
   ]
  },
  {
   "cell_type": "markdown",
   "id": "6e48f3ca-e4a7-41ae-8d72-ad5ad28645d8",
   "metadata": {},
   "source": [
    "Y ahora eso nos ayudaría a sacar los estadísticos para los meses en vez de para las personas"
   ]
  },
  {
   "cell_type": "code",
   "execution_count": 154,
   "id": "ce0909d6-6404-499c-aa41-866a88d836dd",
   "metadata": {},
   "outputs": [
    {
     "data": {
      "text/html": [
       "<div>\n",
       "<style scoped>\n",
       "    .dataframe tbody tr th:only-of-type {\n",
       "        vertical-align: middle;\n",
       "    }\n",
       "\n",
       "    .dataframe tbody tr th {\n",
       "        vertical-align: top;\n",
       "    }\n",
       "\n",
       "    .dataframe thead th {\n",
       "        text-align: right;\n",
       "    }\n",
       "</style>\n",
       "<table border=\"1\" class=\"dataframe\">\n",
       "  <thead>\n",
       "    <tr style=\"text-align: right;\">\n",
       "      <th></th>\n",
       "      <th>Mes 1</th>\n",
       "      <th>Mes 2</th>\n",
       "      <th>Mes 3</th>\n",
       "      <th>Mes 4</th>\n",
       "    </tr>\n",
       "  </thead>\n",
       "  <tbody>\n",
       "    <tr>\n",
       "      <th>count</th>\n",
       "      <td>4.00000</td>\n",
       "      <td>4.000000</td>\n",
       "      <td>4.000000</td>\n",
       "      <td>4.00000</td>\n",
       "    </tr>\n",
       "    <tr>\n",
       "      <th>mean</th>\n",
       "      <td>71.50000</td>\n",
       "      <td>71.000000</td>\n",
       "      <td>70.750000</td>\n",
       "      <td>69.25000</td>\n",
       "    </tr>\n",
       "    <tr>\n",
       "      <th>std</th>\n",
       "      <td>12.60952</td>\n",
       "      <td>12.516656</td>\n",
       "      <td>13.200379</td>\n",
       "      <td>10.59481</td>\n",
       "    </tr>\n",
       "    <tr>\n",
       "      <th>min</th>\n",
       "      <td>59.00000</td>\n",
       "      <td>60.000000</td>\n",
       "      <td>60.000000</td>\n",
       "      <td>62.00000</td>\n",
       "    </tr>\n",
       "    <tr>\n",
       "      <th>25%</th>\n",
       "      <td>65.75000</td>\n",
       "      <td>65.250000</td>\n",
       "      <td>64.500000</td>\n",
       "      <td>64.25000</td>\n",
       "    </tr>\n",
       "    <tr>\n",
       "      <th>50%</th>\n",
       "      <td>69.00000</td>\n",
       "      <td>67.500000</td>\n",
       "      <td>66.500000</td>\n",
       "      <td>65.00000</td>\n",
       "    </tr>\n",
       "    <tr>\n",
       "      <th>75%</th>\n",
       "      <td>74.75000</td>\n",
       "      <td>73.250000</td>\n",
       "      <td>72.750000</td>\n",
       "      <td>70.00000</td>\n",
       "    </tr>\n",
       "    <tr>\n",
       "      <th>max</th>\n",
       "      <td>89.00000</td>\n",
       "      <td>89.000000</td>\n",
       "      <td>90.000000</td>\n",
       "      <td>85.00000</td>\n",
       "    </tr>\n",
       "  </tbody>\n",
       "</table>\n",
       "</div>"
      ],
      "text/plain": [
       "          Mes 1      Mes 2      Mes 3     Mes 4\n",
       "count   4.00000   4.000000   4.000000   4.00000\n",
       "mean   71.50000  71.000000  70.750000  69.25000\n",
       "std    12.60952  12.516656  13.200379  10.59481\n",
       "min    59.00000  60.000000  60.000000  62.00000\n",
       "25%    65.75000  65.250000  64.500000  64.25000\n",
       "50%    69.00000  67.500000  66.500000  65.00000\n",
       "75%    74.75000  73.250000  72.750000  70.00000\n",
       "max    89.00000  89.000000  90.000000  85.00000"
      ]
     },
     "execution_count": 154,
     "metadata": {},
     "output_type": "execute_result"
    }
   ],
   "source": [
    "peso.T.describe()"
   ]
  },
  {
   "cell_type": "markdown",
   "id": "8066a37e-b1d7-43f9-ab02-2fdc92eb76fb",
   "metadata": {},
   "source": [
    "Y el peso promedio por mes de nuestra gente"
   ]
  },
  {
   "cell_type": "code",
   "execution_count": 153,
   "id": "64970fa2-ceed-45c3-a87d-dda435d321f1",
   "metadata": {},
   "outputs": [
    {
     "data": {
      "text/plain": [
       "Mes 1    71.50\n",
       "Mes 2    71.00\n",
       "Mes 3    70.75\n",
       "Mes 4    69.25\n",
       "dtype: float64"
      ]
     },
     "execution_count": 153,
     "metadata": {},
     "output_type": "execute_result"
    }
   ],
   "source": [
    "peso.T.mean()"
   ]
  },
  {
   "cell_type": "markdown",
   "id": "b49b3eee-2eae-409c-8977-e731035f11ce",
   "metadata": {},
   "source": [
    "##### Ordenar el Dataframe\n",
    "\n",
    "Ahora vamos a arreglar el dataframe por fila, con los indices en orden descendente"
   ]
  },
  {
   "cell_type": "code",
   "execution_count": 155,
   "id": "3e95f594-f9b0-4ba5-a9ca-63485e8197af",
   "metadata": {},
   "outputs": [
    {
     "data": {
      "text/html": [
       "<div>\n",
       "<style scoped>\n",
       "    .dataframe tbody tr th:only-of-type {\n",
       "        vertical-align: middle;\n",
       "    }\n",
       "\n",
       "    .dataframe tbody tr th {\n",
       "        vertical-align: top;\n",
       "    }\n",
       "\n",
       "    .dataframe thead th {\n",
       "        text-align: right;\n",
       "    }\n",
       "</style>\n",
       "<table border=\"1\" class=\"dataframe\">\n",
       "  <thead>\n",
       "    <tr style=\"text-align: right;\">\n",
       "      <th></th>\n",
       "      <th>Vanesa</th>\n",
       "      <th>Kevin</th>\n",
       "      <th>Fernanda</th>\n",
       "      <th>Patricia</th>\n",
       "    </tr>\n",
       "  </thead>\n",
       "  <tbody>\n",
       "    <tr>\n",
       "      <th>Mes 4</th>\n",
       "      <td>65</td>\n",
       "      <td>85</td>\n",
       "      <td>62</td>\n",
       "      <td>65</td>\n",
       "    </tr>\n",
       "    <tr>\n",
       "      <th>Mes 3</th>\n",
       "      <td>66</td>\n",
       "      <td>90</td>\n",
       "      <td>60</td>\n",
       "      <td>67</td>\n",
       "    </tr>\n",
       "    <tr>\n",
       "      <th>Mes 2</th>\n",
       "      <td>67</td>\n",
       "      <td>89</td>\n",
       "      <td>60</td>\n",
       "      <td>68</td>\n",
       "    </tr>\n",
       "    <tr>\n",
       "      <th>Mes 1</th>\n",
       "      <td>68</td>\n",
       "      <td>89</td>\n",
       "      <td>59</td>\n",
       "      <td>70</td>\n",
       "    </tr>\n",
       "  </tbody>\n",
       "</table>\n",
       "</div>"
      ],
      "text/plain": [
       "       Vanesa  Kevin  Fernanda  Patricia\n",
       "Mes 4      65     85        62        65\n",
       "Mes 3      66     90        60        67\n",
       "Mes 2      67     89        60        68\n",
       "Mes 1      68     89        59        70"
      ]
     },
     "execution_count": 155,
     "metadata": {},
     "output_type": "execute_result"
    }
   ],
   "source": [
    "peso.sort_index(ascending=False)"
   ]
  },
  {
   "cell_type": "markdown",
   "id": "69f1fef4-c2e4-4930-b82d-8b1f8bd73c48",
   "metadata": {},
   "source": [
    "Las columnas en orden ascendente"
   ]
  },
  {
   "cell_type": "code",
   "execution_count": 156,
   "id": "82e908f9-97ea-48f0-9b53-7340985b9566",
   "metadata": {},
   "outputs": [
    {
     "data": {
      "text/html": [
       "<div>\n",
       "<style scoped>\n",
       "    .dataframe tbody tr th:only-of-type {\n",
       "        vertical-align: middle;\n",
       "    }\n",
       "\n",
       "    .dataframe tbody tr th {\n",
       "        vertical-align: top;\n",
       "    }\n",
       "\n",
       "    .dataframe thead th {\n",
       "        text-align: right;\n",
       "    }\n",
       "</style>\n",
       "<table border=\"1\" class=\"dataframe\">\n",
       "  <thead>\n",
       "    <tr style=\"text-align: right;\">\n",
       "      <th></th>\n",
       "      <th>Fernanda</th>\n",
       "      <th>Kevin</th>\n",
       "      <th>Patricia</th>\n",
       "      <th>Vanesa</th>\n",
       "    </tr>\n",
       "  </thead>\n",
       "  <tbody>\n",
       "    <tr>\n",
       "      <th>Mes 1</th>\n",
       "      <td>59</td>\n",
       "      <td>89</td>\n",
       "      <td>70</td>\n",
       "      <td>68</td>\n",
       "    </tr>\n",
       "    <tr>\n",
       "      <th>Mes 2</th>\n",
       "      <td>60</td>\n",
       "      <td>89</td>\n",
       "      <td>68</td>\n",
       "      <td>67</td>\n",
       "    </tr>\n",
       "    <tr>\n",
       "      <th>Mes 3</th>\n",
       "      <td>60</td>\n",
       "      <td>90</td>\n",
       "      <td>67</td>\n",
       "      <td>66</td>\n",
       "    </tr>\n",
       "    <tr>\n",
       "      <th>Mes 4</th>\n",
       "      <td>62</td>\n",
       "      <td>85</td>\n",
       "      <td>65</td>\n",
       "      <td>65</td>\n",
       "    </tr>\n",
       "  </tbody>\n",
       "</table>\n",
       "</div>"
      ],
      "text/plain": [
       "       Fernanda  Kevin  Patricia  Vanesa\n",
       "Mes 1        59     89        70      68\n",
       "Mes 2        60     89        68      67\n",
       "Mes 3        60     90        67      66\n",
       "Mes 4        62     85        65      65"
      ]
     },
     "execution_count": 156,
     "metadata": {},
     "output_type": "execute_result"
    }
   ],
   "source": [
    "peso.sort_index(axis=1)"
   ]
  },
  {
   "cell_type": "markdown",
   "id": "29f1f219-b455-4984-ac22-864e7c088638",
   "metadata": {},
   "source": [
    "Y también se vale ordenar los valores según una fila o columna especifica.  El siguiente código ordena de forma descendente los datos del DataFrame con respecto\n",
    "a los valores del Mes 1."
   ]
  },
  {
   "cell_type": "code",
   "execution_count": 157,
   "id": "cf6c2851-8e01-4996-a057-c903645feb59",
   "metadata": {},
   "outputs": [
    {
     "data": {
      "text/html": [
       "<div>\n",
       "<style scoped>\n",
       "    .dataframe tbody tr th:only-of-type {\n",
       "        vertical-align: middle;\n",
       "    }\n",
       "\n",
       "    .dataframe tbody tr th {\n",
       "        vertical-align: top;\n",
       "    }\n",
       "\n",
       "    .dataframe thead th {\n",
       "        text-align: right;\n",
       "    }\n",
       "</style>\n",
       "<table border=\"1\" class=\"dataframe\">\n",
       "  <thead>\n",
       "    <tr style=\"text-align: right;\">\n",
       "      <th></th>\n",
       "      <th>Kevin</th>\n",
       "      <th>Patricia</th>\n",
       "      <th>Vanesa</th>\n",
       "      <th>Fernanda</th>\n",
       "    </tr>\n",
       "  </thead>\n",
       "  <tbody>\n",
       "    <tr>\n",
       "      <th>Mes 1</th>\n",
       "      <td>89</td>\n",
       "      <td>70</td>\n",
       "      <td>68</td>\n",
       "      <td>59</td>\n",
       "    </tr>\n",
       "    <tr>\n",
       "      <th>Mes 2</th>\n",
       "      <td>89</td>\n",
       "      <td>68</td>\n",
       "      <td>67</td>\n",
       "      <td>60</td>\n",
       "    </tr>\n",
       "    <tr>\n",
       "      <th>Mes 3</th>\n",
       "      <td>90</td>\n",
       "      <td>67</td>\n",
       "      <td>66</td>\n",
       "      <td>60</td>\n",
       "    </tr>\n",
       "    <tr>\n",
       "      <th>Mes 4</th>\n",
       "      <td>85</td>\n",
       "      <td>65</td>\n",
       "      <td>65</td>\n",
       "      <td>62</td>\n",
       "    </tr>\n",
       "  </tbody>\n",
       "</table>\n",
       "</div>"
      ],
      "text/plain": [
       "       Kevin  Patricia  Vanesa  Fernanda\n",
       "Mes 1     89        70      68        59\n",
       "Mes 2     89        68      67        60\n",
       "Mes 3     90        67      66        60\n",
       "Mes 4     85        65      65        62"
      ]
     },
     "execution_count": 157,
     "metadata": {},
     "output_type": "execute_result"
    }
   ],
   "source": [
    "peso.sort_values(by='Mes 1', axis=1,ascending=False)"
   ]
  }
 ],
 "metadata": {
  "kernelspec": {
   "display_name": "Python 3",
   "language": "python",
   "name": "python3"
  },
  "language_info": {
   "codemirror_mode": {
    "name": "ipython",
    "version": 3
   },
   "file_extension": ".py",
   "mimetype": "text/x-python",
   "name": "python",
   "nbconvert_exporter": "python",
   "pygments_lexer": "ipython3",
   "version": "3.13.2"
  }
 },
 "nbformat": 4,
 "nbformat_minor": 5
}
